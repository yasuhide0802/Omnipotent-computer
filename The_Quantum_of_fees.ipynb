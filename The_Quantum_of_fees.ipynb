{
  "cells": [
    {
      "cell_type": "markdown",
      "metadata": {
        "id": "view-in-github",
        "colab_type": "text"
      },
      "source": [
        "<a href=\"https://colab.research.google.com/github/yasuhide0802/Omnipotent-computer/blob/main/The_Quantum_of_fees.ipynb\" target=\"_parent\"><img src=\"https://colab.research.google.com/assets/colab-badge.svg\" alt=\"Open In Colab\"/></a>"
      ]
    },
    {
      "cell_type": "code",
      "source": [],
      "metadata": {
        "id": "QYsJosQl7ebG"
      },
      "execution_count": 9,
      "outputs": []
    },
    {
      "cell_type": "markdown",
      "source": [],
      "metadata": {
        "id": "N-c5FOEO7lS6"
      }
    },
    {
      "cell_type": "code",
      "source": [],
      "metadata": {
        "id": "g6ubueUH7he-"
      },
      "execution_count": 9,
      "outputs": []
    },
    {
      "cell_type": "markdown",
      "metadata": {
        "id": "DkA0Fobtb9dM"
      },
      "source": [
        "##### Copyright 2022 The Cirq Developers"
      ]
    },
    {
      "cell_type": "code",
      "execution_count": 10,
      "metadata": {
        "id": "tUshu7YfcAAW"
      },
      "outputs": [],
      "source": [
        "# @title Licensed under the Apache License, Version 2.0 (the \"License\");\n",
        "# you may not use this file except in compliance with the License.\n",
        "# You may obtain a copy of the License at\n",
        "#\n",
        "# https://www.apache.org/licenses/LICENSE-2.0\n",
        "#\n",
        "# Unless required by applicable law or agreed to in writing, software\n",
        "# distributed under the License is distributed on an \"AS IS\" BASIS,\n",
        "# WITHOUT WARRANTIES OR CONDITIONS OF ANY KIND, either express or implied.\n",
        "# See the License for the specific language governing permissions and\n",
        "# limitations under the License."
      ]
    },
    {
      "cell_type": "markdown",
      "metadata": {
        "id": "igOQCrBOcF5d"
      },
      "source": [
        "# Circuits"
      ]
    },
    {
      "cell_type": "code",
      "execution_count": 11,
      "metadata": {
        "id": "e_ThdzLOUmtQ",
        "colab": {
          "base_uri": "https://localhost:8080/"
        },
        "outputId": "b9847b81-fceb-4aaa-e234-d7158f0b0323"
      },
      "outputs": [
        {
          "output_type": "stream",
          "name": "stdout",
          "text": [
            "Enabling notebook extension jupyter-js-widgets/extension...\n",
            "Paths used for configuration of notebook: \n",
            "    \t/usr/etc/jupyter/nbconfig/notebook.json\n",
            "Paths used for configuration of notebook: \n",
            "    \t\n",
            "      - Validating: \u001b[32mOK\u001b[0m\n",
            "Paths used for configuration of notebook: \n",
            "    \t/usr/etc/jupyter/nbconfig/notebook.json\n",
            "usage: jupyter [-h] [--version] [--config-dir] [--data-dir] [--runtime-dir]\n",
            "               [--paths] [--json] [--debug]\n",
            "               [subcommand]\n",
            "\n",
            "Jupyter: Interactive Computing\n",
            "\n",
            "positional arguments:\n",
            "  subcommand     the subcommand to launch\n",
            "\n",
            "options:\n",
            "  -h, --help     show this help message and exit\n",
            "  --version      show the versions of core jupyter packages and exit\n",
            "  --config-dir   show Jupyter config dir\n",
            "  --data-dir     show Jupyter data dir\n",
            "  --runtime-dir  show Jupyter runtime dir\n",
            "  --paths        show all Jupyter paths. Add --json for machine-readable\n",
            "                 format.\n",
            "  --json         output paths as machine-readable json\n",
            "  --debug        output debug information about paths\n",
            "\n",
            "Available subcommands: bundlerextension console dejavu execute kernel\n",
            "kernelgateway kernelspec migrate nbclassic nbconvert nbextension notebook run\n",
            "server serverextension troubleshoot trust\n",
            "\n",
            "Jupyter command `jupyter-labextension` not found.\n",
            "Traceback (most recent call last):\n",
            "  File \"/usr/local/bin/jupyter-serverextension\", line 10, in <module>\n",
            "    sys.exit(main())\n",
            "             ^^^^^^\n",
            "  File \"/usr/local/lib/python3.11/dist-packages/jupyter_core/application.py\", line 284, in launch_instance\n",
            "    super().launch_instance(argv=argv, **kwargs)\n",
            "  File \"/usr/local/lib/python3.11/dist-packages/traitlets/config/application.py\", line 992, in launch_instance\n",
            "    app.start()\n",
            "  File \"/usr/local/lib/python3.11/dist-packages/notebook/serverextensions.py\", line 289, in start\n",
            "    super().start()\n",
            "  File \"/usr/local/lib/python3.11/dist-packages/jupyter_core/application.py\", line 271, in start\n",
            "    self.subapp.start()\n",
            "  File \"/usr/local/lib/python3.11/dist-packages/notebook/serverextensions.py\", line 208, in start\n",
            "    self.toggle_server_extension_python(arg)\n",
            "  File \"/usr/local/lib/python3.11/dist-packages/notebook/serverextensions.py\", line 197, in toggle_server_extension_python\n",
            "    m, server_exts = _get_server_extension_metadata(package)\n",
            "                     ^^^^^^^^^^^^^^^^^^^^^^^^^^^^^^^^^^^^^^^\n",
            "  File \"/usr/local/lib/python3.11/dist-packages/notebook/serverextensions.py\", line 323, in _get_server_extension_metadata\n",
            "    m = import_item(module)\n",
            "        ^^^^^^^^^^^^^^^^^^^\n",
            "  File \"/usr/local/lib/python3.11/dist-packages/traitlets/utils/importstring.py\", line 38, in import_item\n",
            "    return __import__(parts[0])\n",
            "           ^^^^^^^^^^^^^^^^^^^^\n",
            "ModuleNotFoundError: No module named 'voila'\n",
            "usage: jupyter [-h] [--version] [--config-dir] [--data-dir] [--runtime-dir]\n",
            "               [--paths] [--json] [--debug]\n",
            "               [subcommand]\n",
            "\n",
            "Jupyter: Interactive Computing\n",
            "\n",
            "positional arguments:\n",
            "  subcommand     the subcommand to launch\n",
            "\n",
            "options:\n",
            "  -h, --help     show this help message and exit\n",
            "  --version      show the versions of core jupyter packages and exit\n",
            "  --config-dir   show Jupyter config dir\n",
            "  --data-dir     show Jupyter data dir\n",
            "  --runtime-dir  show Jupyter runtime dir\n",
            "  --paths        show all Jupyter paths. Add --json for machine-readable\n",
            "                 format.\n",
            "  --json         output paths as machine-readable json\n",
            "  --debug        output debug information about paths\n",
            "\n",
            "Available subcommands: bundlerextension console dejavu execute kernel\n",
            "kernelgateway kernelspec migrate nbclassic nbconvert nbextension notebook run\n",
            "server serverextension troubleshoot trust\n",
            "\n",
            "Jupyter command `jupyter-labextension` not found.\n",
            "Requirement already satisfied: jupyterlab-widgets in /usr/local/lib/python3.11/dist-packages (3.0.15)\n"
          ]
        }
      ],
      "source": [
        "# prompt: nblab\n",
        "\n",
        "!jupyter nbextension enable --py --sys-prefix widgetsnbextension\n",
        "!jupyter labextension install @jupyter-widgets/jupyterlab-manager\n",
        "!jupyter serverextension enable voila --py --sys-prefix\n",
        "!jupyter labextension install voila\n",
        "!pip install jupyterlab-widgets\n"
      ]
    },
    {
      "cell_type": "code",
      "execution_count": 12,
      "metadata": {
        "colab": {
          "base_uri": "https://localhost:8080/"
        },
        "id": "T4guYcK8QSG_",
        "outputId": "39e6e9da-76e7-4ea5-83ab-df3a795809a6"
      },
      "outputs": [
        {
          "output_type": "stream",
          "name": "stdout",
          "text": [
            "Requirement already satisfied: xmind-sdk in /usr/local/lib/python3.11/dist-packages (1.1a0)\n"
          ]
        }
      ],
      "source": [
        "# prompt: xmind-sdk\n",
        "\n",
        "!pip install xmind-sdk\n"
      ]
    },
    {
      "cell_type": "markdown",
      "metadata": {
        "id": "doUaJJGSAwCO"
      },
      "source": [
        "## Conceptual overview\n",
        "\n",
        "The primary representation of quantum programs in Cirq is the `Circuit` class. A `Circuit` is a collection of `Moments`. A `Moment` is a collection of `Operations` that all act during the same abstract time slice. An `Operation` is some effect that operates on a specific subset of Qubits; the most common type of `Operation` is a `GateOperation`.\n"
      ]
    },
    {
      "cell_type": "markdown",
      "metadata": {
        "id": "77zB_UqkAwCR"
      },
      "source": [
        "![Circuits and Moments](https://github.com/quantumlib/Cirq/blob/main/docs/images/CircuitMomentOperation.png?raw=1)"
      ]
    },
    {
      "cell_type": "markdown",
      "metadata": {
        "id": "uB8cQJ0PAwCT"
      },
      "source": [
        "Let's unpack this.\n",
        "\n",
        "At the base of this construction is the notion of a qubit. In Cirq, qubits and other quantum objects are identified by instances of subclasses of the `cirq.Qid` base class. Different subclasses of `Qid` can be used for different purposes. For example, the qubits that Google’s devices use are often arranged on the vertices of a square grid. For this, the class `cirq.GridQubit` subclasses `cirq.Qid`. For example, you can create a 3 by 3 grid of qubits using:"
      ]
    },
    {
      "cell_type": "code",
      "execution_count": 13,
      "metadata": {
        "colab": {
          "base_uri": "https://localhost:8080/"
        },
        "id": "G30Zl1VwAwCU",
        "outputId": "5df86a06-655f-4c0e-a930-a5590933b062"
      },
      "outputs": [
        {
          "output_type": "stream",
          "name": "stdout",
          "text": [
            "q(0, 0)\n",
            "[cirq.GridQubit(0, 0), cirq.GridQubit(0, 1), cirq.GridQubit(0, 2), cirq.GridQubit(1, 0), cirq.GridQubit(1, 1), cirq.GridQubit(1, 2), cirq.GridQubit(2, 0), cirq.GridQubit(2, 1), cirq.GridQubit(2, 2)]\n"
          ]
        }
      ],
      "source": [
        "import cirq\n",
        "\n",
        "qubits = cirq.GridQubit.square(3)\n",
        "\n",
        "print(qubits[0])\n",
        "print(qubits)"
      ]
    },
    {
      "cell_type": "code",
      "execution_count": 14,
      "metadata": {
        "colab": {
          "base_uri": "https://localhost:8080/"
        },
        "id": "H8rL47smQhNT",
        "outputId": "1e7f114a-3911-42e8-93f7-6f7ad34f1fec"
      },
      "outputs": [
        {
          "output_type": "stream",
          "name": "stdout",
          "text": [
            "0: ───H───@───\n",
            "          │\n",
            "1: ───────X───\n"
          ]
        }
      ],
      "source": [
        "# prompt: rich and healthy\n",
        "\n",
        "# A quantum circuit with 2 qubits.\n",
        "q0, q1 = cirq.LineQubit.range(2)\n",
        "circuit = cirq.Circuit(\n",
        "    cirq.H(q0),  # Prepare the first qubit in the |+⟩ state.\n",
        "    cirq.CX(q0, q1),  # CNOT with q0 as control and q1 as target.\n",
        ")\n",
        "print(circuit)\n"
      ]
    },
    {
      "cell_type": "markdown",
      "metadata": {
        "id": "gpi9rwuiAwCZ"
      },
      "source": [
        "The next level up is the notion of `cirq.Gate`. A `cirq.Gate` represents a physical process that occurs on a qubit. The important property of a gate is that it can be applied to one or more qubits. This can be done via the `gate.on(*qubits)` method itself or via `gate(*qubits)`. Doing this turns a `cirq.Gate` into a `cirq.Operation`."
      ]
    },
    {
      "cell_type": "code",
      "execution_count": 15,
      "metadata": {
        "colab": {
          "base_uri": "https://localhost:8080/"
        },
        "id": "LHdVOJKLs10L",
        "outputId": "70a71371-b9e3-40da-9683-f538a89c212c"
      },
      "outputs": [
        {
          "output_type": "stream",
          "name": "stdout",
          "text": [
            "Requirement already satisfied: cirq in /usr/local/lib/python3.11/dist-packages (1.6.0)\n",
            "Requirement already satisfied: cirq-aqt==1.6.0 in /usr/local/lib/python3.11/dist-packages (from cirq) (1.6.0)\n",
            "Requirement already satisfied: cirq-core==1.6.0 in /usr/local/lib/python3.11/dist-packages (from cirq) (1.6.0)\n",
            "Requirement already satisfied: cirq-google==1.6.0 in /usr/local/lib/python3.11/dist-packages (from cirq) (1.6.0)\n",
            "Requirement already satisfied: cirq-ionq==1.6.0 in /usr/local/lib/python3.11/dist-packages (from cirq) (1.6.0)\n",
            "Requirement already satisfied: cirq-pasqal==1.6.0 in /usr/local/lib/python3.11/dist-packages (from cirq) (1.6.0)\n",
            "Requirement already satisfied: cirq-web==1.6.0 in /usr/local/lib/python3.11/dist-packages (from cirq) (1.6.0)\n",
            "Requirement already satisfied: requests~=2.32 in /usr/local/lib/python3.11/dist-packages (from cirq-aqt==1.6.0->cirq) (2.32.3)\n",
            "Requirement already satisfied: attrs>=21.3.0 in /usr/local/lib/python3.11/dist-packages (from cirq-core==1.6.0->cirq) (25.3.0)\n",
            "Requirement already satisfied: duet>=0.2.8 in /usr/local/lib/python3.11/dist-packages (from cirq-core==1.6.0->cirq) (0.2.9)\n",
            "Requirement already satisfied: matplotlib~=3.8 in /usr/local/lib/python3.11/dist-packages (from cirq-core==1.6.0->cirq) (3.10.0)\n",
            "Requirement already satisfied: networkx~=3.4 in /usr/local/lib/python3.11/dist-packages (from cirq-core==1.6.0->cirq) (3.5)\n",
            "Requirement already satisfied: numpy>=1.26 in /usr/local/lib/python3.11/dist-packages (from cirq-core==1.6.0->cirq) (2.0.2)\n",
            "Requirement already satisfied: pandas~=2.1 in /usr/local/lib/python3.11/dist-packages (from cirq-core==1.6.0->cirq) (2.2.2)\n",
            "Requirement already satisfied: sortedcontainers~=2.0 in /usr/local/lib/python3.11/dist-packages (from cirq-core==1.6.0->cirq) (2.4.0)\n",
            "Requirement already satisfied: scipy~=1.12 in /usr/local/lib/python3.11/dist-packages (from cirq-core==1.6.0->cirq) (1.16.0)\n",
            "Requirement already satisfied: sympy in /usr/local/lib/python3.11/dist-packages (from cirq-core==1.6.0->cirq) (1.13.1)\n",
            "Requirement already satisfied: typing_extensions>=4.2 in /usr/local/lib/python3.11/dist-packages (from cirq-core==1.6.0->cirq) (4.14.1)\n",
            "Requirement already satisfied: tqdm>=4.12 in /usr/local/lib/python3.11/dist-packages (from cirq-core==1.6.0->cirq) (4.67.1)\n",
            "Requirement already satisfied: google-api-core~=2.22 in /usr/local/lib/python3.11/dist-packages (from google-api-core[grpc]~=2.22->cirq-google==1.6.0->cirq) (2.25.1)\n",
            "Requirement already satisfied: proto-plus~=1.25 in /usr/local/lib/python3.11/dist-packages (from cirq-google==1.6.0->cirq) (1.26.1)\n",
            "Requirement already satisfied: protobuf<6.0dev,>=5.26.1 in /usr/local/lib/python3.11/dist-packages (from cirq-google==1.6.0->cirq) (5.29.5)\n",
            "Requirement already satisfied: typedunits in /usr/local/lib/python3.11/dist-packages (from cirq-google==1.6.0->cirq) (0.0.1.dev20250509200845)\n",
            "Requirement already satisfied: googleapis-common-protos<2.0.0,>=1.56.2 in /usr/local/lib/python3.11/dist-packages (from google-api-core~=2.22->google-api-core[grpc]~=2.22->cirq-google==1.6.0->cirq) (1.70.0)\n",
            "Requirement already satisfied: google-auth<3.0.0,>=2.14.1 in /usr/local/lib/python3.11/dist-packages (from google-api-core~=2.22->google-api-core[grpc]~=2.22->cirq-google==1.6.0->cirq) (2.38.0)\n",
            "Requirement already satisfied: grpcio<2.0.0,>=1.33.2 in /usr/local/lib/python3.11/dist-packages (from google-api-core[grpc]~=2.22->cirq-google==1.6.0->cirq) (1.73.1)\n",
            "Requirement already satisfied: grpcio-status<2.0.0,>=1.33.2 in /usr/local/lib/python3.11/dist-packages (from google-api-core[grpc]~=2.22->cirq-google==1.6.0->cirq) (1.71.2)\n",
            "Requirement already satisfied: contourpy>=1.0.1 in /usr/local/lib/python3.11/dist-packages (from matplotlib~=3.8->cirq-core==1.6.0->cirq) (1.3.2)\n",
            "Requirement already satisfied: cycler>=0.10 in /usr/local/lib/python3.11/dist-packages (from matplotlib~=3.8->cirq-core==1.6.0->cirq) (0.12.1)\n",
            "Requirement already satisfied: fonttools>=4.22.0 in /usr/local/lib/python3.11/dist-packages (from matplotlib~=3.8->cirq-core==1.6.0->cirq) (4.59.0)\n",
            "Requirement already satisfied: kiwisolver>=1.3.1 in /usr/local/lib/python3.11/dist-packages (from matplotlib~=3.8->cirq-core==1.6.0->cirq) (1.4.8)\n",
            "Requirement already satisfied: packaging>=20.0 in /usr/local/lib/python3.11/dist-packages (from matplotlib~=3.8->cirq-core==1.6.0->cirq) (25.0)\n",
            "Requirement already satisfied: pillow>=8 in /usr/local/lib/python3.11/dist-packages (from matplotlib~=3.8->cirq-core==1.6.0->cirq) (11.3.0)\n",
            "Requirement already satisfied: pyparsing>=2.3.1 in /usr/local/lib/python3.11/dist-packages (from matplotlib~=3.8->cirq-core==1.6.0->cirq) (3.2.3)\n",
            "Requirement already satisfied: python-dateutil>=2.7 in /usr/local/lib/python3.11/dist-packages (from matplotlib~=3.8->cirq-core==1.6.0->cirq) (2.9.0.post0)\n",
            "Requirement already satisfied: pytz>=2020.1 in /usr/local/lib/python3.11/dist-packages (from pandas~=2.1->cirq-core==1.6.0->cirq) (2025.2)\n",
            "Requirement already satisfied: tzdata>=2022.7 in /usr/local/lib/python3.11/dist-packages (from pandas~=2.1->cirq-core==1.6.0->cirq) (2025.2)\n",
            "Requirement already satisfied: charset-normalizer<4,>=2 in /usr/local/lib/python3.11/dist-packages (from requests~=2.32->cirq-aqt==1.6.0->cirq) (3.4.2)\n",
            "Requirement already satisfied: idna<4,>=2.5 in /usr/local/lib/python3.11/dist-packages (from requests~=2.32->cirq-aqt==1.6.0->cirq) (3.10)\n",
            "Requirement already satisfied: urllib3<3,>=1.21.1 in /usr/local/lib/python3.11/dist-packages (from requests~=2.32->cirq-aqt==1.6.0->cirq) (2.5.0)\n",
            "Requirement already satisfied: certifi>=2017.4.17 in /usr/local/lib/python3.11/dist-packages (from requests~=2.32->cirq-aqt==1.6.0->cirq) (2025.7.14)\n",
            "Requirement already satisfied: mpmath<1.4,>=1.1.0 in /usr/local/lib/python3.11/dist-packages (from sympy->cirq-core==1.6.0->cirq) (1.3.0)\n",
            "Requirement already satisfied: cython>=3.0.0 in /usr/local/lib/python3.11/dist-packages (from typedunits->cirq-google==1.6.0->cirq) (3.0.12)\n",
            "Requirement already satisfied: cachetools<6.0,>=2.0.0 in /usr/local/lib/python3.11/dist-packages (from google-auth<3.0.0,>=2.14.1->google-api-core~=2.22->google-api-core[grpc]~=2.22->cirq-google==1.6.0->cirq) (5.5.2)\n",
            "Requirement already satisfied: pyasn1-modules>=0.2.1 in /usr/local/lib/python3.11/dist-packages (from google-auth<3.0.0,>=2.14.1->google-api-core~=2.22->google-api-core[grpc]~=2.22->cirq-google==1.6.0->cirq) (0.4.2)\n",
            "Requirement already satisfied: rsa<5,>=3.1.4 in /usr/local/lib/python3.11/dist-packages (from google-auth<3.0.0,>=2.14.1->google-api-core~=2.22->google-api-core[grpc]~=2.22->cirq-google==1.6.0->cirq) (4.9.1)\n",
            "Requirement already satisfied: six>=1.5 in /usr/local/lib/python3.11/dist-packages (from python-dateutil>=2.7->matplotlib~=3.8->cirq-core==1.6.0->cirq) (1.17.0)\n",
            "Requirement already satisfied: pyasn1<0.7.0,>=0.6.1 in /usr/local/lib/python3.11/dist-packages (from pyasn1-modules>=0.2.1->google-auth<3.0.0,>=2.14.1->google-api-core~=2.22->google-api-core[grpc]~=2.22->cirq-google==1.6.0->cirq) (0.6.1)\n"
          ]
        }
      ],
      "source": [
        "# prompt: Susteinable Development\n",
        "\n",
        "!pip install --upgrade cirq\n"
      ]
    },
    {
      "cell_type": "code",
      "execution_count": 16,
      "metadata": {
        "colab": {
          "base_uri": "https://localhost:8080/",
          "height": 930
        },
        "id": "aYEV_VCN7rqi",
        "outputId": "8a5f1c19-286b-4fd0-a9f9-20e1821af58c"
      },
      "outputs": [
        {
          "output_type": "stream",
          "name": "stdout",
          "text": [
            "Requirement already satisfied: cirq-google in /usr/local/lib/python3.11/dist-packages (1.6.0)\n",
            "Requirement already satisfied: google-api-core~=2.22 in /usr/local/lib/python3.11/dist-packages (from google-api-core[grpc]~=2.22->cirq-google) (2.25.1)\n",
            "Requirement already satisfied: proto-plus~=1.25 in /usr/local/lib/python3.11/dist-packages (from cirq-google) (1.26.1)\n",
            "Requirement already satisfied: protobuf<6.0dev,>=5.26.1 in /usr/local/lib/python3.11/dist-packages (from cirq-google) (5.29.5)\n",
            "Requirement already satisfied: typedunits in /usr/local/lib/python3.11/dist-packages (from cirq-google) (0.0.1.dev20250509200845)\n",
            "Requirement already satisfied: cirq-core==1.6.0 in /usr/local/lib/python3.11/dist-packages (from cirq-google) (1.6.0)\n",
            "Requirement already satisfied: attrs>=21.3.0 in /usr/local/lib/python3.11/dist-packages (from cirq-core==1.6.0->cirq-google) (25.3.0)\n",
            "Requirement already satisfied: duet>=0.2.8 in /usr/local/lib/python3.11/dist-packages (from cirq-core==1.6.0->cirq-google) (0.2.9)\n",
            "Requirement already satisfied: matplotlib~=3.8 in /usr/local/lib/python3.11/dist-packages (from cirq-core==1.6.0->cirq-google) (3.10.0)\n",
            "Requirement already satisfied: networkx~=3.4 in /usr/local/lib/python3.11/dist-packages (from cirq-core==1.6.0->cirq-google) (3.5)\n",
            "Requirement already satisfied: numpy>=1.26 in /usr/local/lib/python3.11/dist-packages (from cirq-core==1.6.0->cirq-google) (2.0.2)\n",
            "Requirement already satisfied: pandas~=2.1 in /usr/local/lib/python3.11/dist-packages (from cirq-core==1.6.0->cirq-google) (2.2.2)\n",
            "Requirement already satisfied: sortedcontainers~=2.0 in /usr/local/lib/python3.11/dist-packages (from cirq-core==1.6.0->cirq-google) (2.4.0)\n",
            "Requirement already satisfied: scipy~=1.12 in /usr/local/lib/python3.11/dist-packages (from cirq-core==1.6.0->cirq-google) (1.16.0)\n",
            "Requirement already satisfied: sympy in /usr/local/lib/python3.11/dist-packages (from cirq-core==1.6.0->cirq-google) (1.13.1)\n",
            "Requirement already satisfied: typing_extensions>=4.2 in /usr/local/lib/python3.11/dist-packages (from cirq-core==1.6.0->cirq-google) (4.14.1)\n",
            "Requirement already satisfied: tqdm>=4.12 in /usr/local/lib/python3.11/dist-packages (from cirq-core==1.6.0->cirq-google) (4.67.1)\n",
            "Requirement already satisfied: googleapis-common-protos<2.0.0,>=1.56.2 in /usr/local/lib/python3.11/dist-packages (from google-api-core~=2.22->google-api-core[grpc]~=2.22->cirq-google) (1.70.0)\n",
            "Requirement already satisfied: google-auth<3.0.0,>=2.14.1 in /usr/local/lib/python3.11/dist-packages (from google-api-core~=2.22->google-api-core[grpc]~=2.22->cirq-google) (2.38.0)\n",
            "Requirement already satisfied: requests<3.0.0,>=2.18.0 in /usr/local/lib/python3.11/dist-packages (from google-api-core~=2.22->google-api-core[grpc]~=2.22->cirq-google) (2.32.3)\n",
            "Requirement already satisfied: grpcio<2.0.0,>=1.33.2 in /usr/local/lib/python3.11/dist-packages (from google-api-core[grpc]~=2.22->cirq-google) (1.73.1)\n",
            "Requirement already satisfied: grpcio-status<2.0.0,>=1.33.2 in /usr/local/lib/python3.11/dist-packages (from google-api-core[grpc]~=2.22->cirq-google) (1.71.2)\n",
            "Requirement already satisfied: cython>=3.0.0 in /usr/local/lib/python3.11/dist-packages (from typedunits->cirq-google) (3.0.12)\n",
            "Requirement already satisfied: pyparsing in /usr/local/lib/python3.11/dist-packages (from typedunits->cirq-google) (3.2.3)\n",
            "Requirement already satisfied: cachetools<6.0,>=2.0.0 in /usr/local/lib/python3.11/dist-packages (from google-auth<3.0.0,>=2.14.1->google-api-core~=2.22->google-api-core[grpc]~=2.22->cirq-google) (5.5.2)\n",
            "Requirement already satisfied: pyasn1-modules>=0.2.1 in /usr/local/lib/python3.11/dist-packages (from google-auth<3.0.0,>=2.14.1->google-api-core~=2.22->google-api-core[grpc]~=2.22->cirq-google) (0.4.2)\n",
            "Requirement already satisfied: rsa<5,>=3.1.4 in /usr/local/lib/python3.11/dist-packages (from google-auth<3.0.0,>=2.14.1->google-api-core~=2.22->google-api-core[grpc]~=2.22->cirq-google) (4.9.1)\n",
            "Requirement already satisfied: contourpy>=1.0.1 in /usr/local/lib/python3.11/dist-packages (from matplotlib~=3.8->cirq-core==1.6.0->cirq-google) (1.3.2)\n",
            "Requirement already satisfied: cycler>=0.10 in /usr/local/lib/python3.11/dist-packages (from matplotlib~=3.8->cirq-core==1.6.0->cirq-google) (0.12.1)\n",
            "Requirement already satisfied: fonttools>=4.22.0 in /usr/local/lib/python3.11/dist-packages (from matplotlib~=3.8->cirq-core==1.6.0->cirq-google) (4.59.0)\n",
            "Requirement already satisfied: kiwisolver>=1.3.1 in /usr/local/lib/python3.11/dist-packages (from matplotlib~=3.8->cirq-core==1.6.0->cirq-google) (1.4.8)\n",
            "Requirement already satisfied: packaging>=20.0 in /usr/local/lib/python3.11/dist-packages (from matplotlib~=3.8->cirq-core==1.6.0->cirq-google) (25.0)\n",
            "Requirement already satisfied: pillow>=8 in /usr/local/lib/python3.11/dist-packages (from matplotlib~=3.8->cirq-core==1.6.0->cirq-google) (11.3.0)\n",
            "Requirement already satisfied: python-dateutil>=2.7 in /usr/local/lib/python3.11/dist-packages (from matplotlib~=3.8->cirq-core==1.6.0->cirq-google) (2.9.0.post0)\n",
            "Requirement already satisfied: pytz>=2020.1 in /usr/local/lib/python3.11/dist-packages (from pandas~=2.1->cirq-core==1.6.0->cirq-google) (2025.2)\n",
            "Requirement already satisfied: tzdata>=2022.7 in /usr/local/lib/python3.11/dist-packages (from pandas~=2.1->cirq-core==1.6.0->cirq-google) (2025.2)\n",
            "Requirement already satisfied: charset-normalizer<4,>=2 in /usr/local/lib/python3.11/dist-packages (from requests<3.0.0,>=2.18.0->google-api-core~=2.22->google-api-core[grpc]~=2.22->cirq-google) (3.4.2)\n",
            "Requirement already satisfied: idna<4,>=2.5 in /usr/local/lib/python3.11/dist-packages (from requests<3.0.0,>=2.18.0->google-api-core~=2.22->google-api-core[grpc]~=2.22->cirq-google) (3.10)\n",
            "Requirement already satisfied: urllib3<3,>=1.21.1 in /usr/local/lib/python3.11/dist-packages (from requests<3.0.0,>=2.18.0->google-api-core~=2.22->google-api-core[grpc]~=2.22->cirq-google) (2.5.0)\n",
            "Requirement already satisfied: certifi>=2017.4.17 in /usr/local/lib/python3.11/dist-packages (from requests<3.0.0,>=2.18.0->google-api-core~=2.22->google-api-core[grpc]~=2.22->cirq-google) (2025.7.14)\n",
            "Requirement already satisfied: mpmath<1.4,>=1.1.0 in /usr/local/lib/python3.11/dist-packages (from sympy->cirq-core==1.6.0->cirq-google) (1.3.0)\n",
            "Requirement already satisfied: pyasn1<0.7.0,>=0.6.1 in /usr/local/lib/python3.11/dist-packages (from pyasn1-modules>=0.2.1->google-auth<3.0.0,>=2.14.1->google-api-core~=2.22->google-api-core[grpc]~=2.22->cirq-google) (0.6.1)\n",
            "Requirement already satisfied: six>=1.5 in /usr/local/lib/python3.11/dist-packages (from python-dateutil>=2.7->matplotlib~=3.8->cirq-core==1.6.0->cirq-google) (1.17.0)\n"
          ]
        },
        {
          "output_type": "execute_result",
          "data": {
            "text/plain": [
              "<cirq.contrib.svg.svg.SVGCircuit at 0x7d3095dc2d10>"
            ],
            "image/svg+xml": "<svg xmlns=\"http://www.w3.org/2000/svg\" width=\"220.0\" height=\"100.0\"><line x1=\"30.0\" x2=\"190.0\" y1=\"25.0\" y2=\"25.0\" stroke=\"#1967d2\" stroke-width=\"1\" /><line x1=\"30.0\" x2=\"190.0\" y1=\"75.0\" y2=\"75.0\" stroke=\"#1967d2\" stroke-width=\"1\" /><line x1=\"150.0\" x2=\"150.0\" y1=\"25.0\" y2=\"75.0\" stroke=\"black\" stroke-width=\"3\" /><rect x=\"10.0\" y=\"5.0\" width=\"40\" height=\"40\" stroke=\"black\" fill=\"white\" stroke-width=\"0\" /><text x=\"30.0\" y=\"25.0\" dominant-baseline=\"middle\" text-anchor=\"middle\" font-size=\"14px\" font-family=\"sans\\-serif:style=normal:variant=normal:weight=normal:stretch=normal:size=10.0\">0: </text><rect x=\"10.0\" y=\"55.0\" width=\"40\" height=\"40\" stroke=\"black\" fill=\"white\" stroke-width=\"0\" /><text x=\"30.0\" y=\"75.0\" dominant-baseline=\"middle\" text-anchor=\"middle\" font-size=\"14px\" font-family=\"sans\\-serif:style=normal:variant=normal:weight=normal:stretch=normal:size=10.0\">1: </text><rect x=\"70.0\" y=\"5.0\" width=\"40\" height=\"40\" stroke=\"black\" fill=\"white\" stroke-width=\"1\" /><text x=\"90.0\" y=\"25.0\" dominant-baseline=\"middle\" text-anchor=\"middle\" font-size=\"18px\" font-family=\"sans\\-serif:style=normal:variant=normal:weight=normal:stretch=normal:size=10.0\">H</text><circle cx=\"150.0\" cy=\"25.0\" r=\"10.0\" /><rect x=\"130.0\" y=\"55.0\" width=\"40\" height=\"40\" stroke=\"black\" fill=\"white\" stroke-width=\"1\" /><text x=\"150.0\" y=\"75.0\" dominant-baseline=\"middle\" text-anchor=\"middle\" font-size=\"18px\" font-family=\"sans\\-serif:style=normal:variant=normal:weight=normal:stretch=normal:size=10.0\">X</text></svg>"
          },
          "metadata": {},
          "execution_count": 16
        }
      ],
      "source": [
        "# prompt: osdg-tool\n",
        "\n",
        "!pip install cirq-google\n",
        "import cirq\n",
        "from cirq.contrib.svg import SVGCircuit\n",
        "\n",
        "# Define a circuit.\n",
        "circuit = cirq.Circuit(cirq.H(cirq.LineQubit(0)), cirq.CX(cirq.LineQubit(0), cirq.LineQubit(1)))\n",
        "\n",
        "# Use the SVG circuit drawer to draw the circuit.\n",
        "SVGCircuit(circuit)\n"
      ]
    },
    {
      "cell_type": "code",
      "execution_count": 17,
      "metadata": {
        "colab": {
          "base_uri": "https://localhost:8080/"
        },
        "id": "tqWuDdBR1M4F",
        "outputId": "0a7adeda-3dd9-49d7-d6d4-f74559fda0c2"
      },
      "outputs": [
        {
          "output_type": "stream",
          "name": "stdout",
          "text": [
            "Requirement already satisfied: tensorflow in /usr/local/lib/python3.11/dist-packages (2.18.0)\n",
            "Requirement already satisfied: absl-py>=1.0.0 in /usr/local/lib/python3.11/dist-packages (from tensorflow) (1.4.0)\n",
            "Requirement already satisfied: astunparse>=1.6.0 in /usr/local/lib/python3.11/dist-packages (from tensorflow) (1.6.3)\n",
            "Requirement already satisfied: flatbuffers>=24.3.25 in /usr/local/lib/python3.11/dist-packages (from tensorflow) (25.2.10)\n",
            "Requirement already satisfied: gast!=0.5.0,!=0.5.1,!=0.5.2,>=0.2.1 in /usr/local/lib/python3.11/dist-packages (from tensorflow) (0.6.0)\n",
            "Requirement already satisfied: google-pasta>=0.1.1 in /usr/local/lib/python3.11/dist-packages (from tensorflow) (0.2.0)\n",
            "Requirement already satisfied: libclang>=13.0.0 in /usr/local/lib/python3.11/dist-packages (from tensorflow) (18.1.1)\n",
            "Requirement already satisfied: opt-einsum>=2.3.2 in /usr/local/lib/python3.11/dist-packages (from tensorflow) (3.4.0)\n",
            "Requirement already satisfied: packaging in /usr/local/lib/python3.11/dist-packages (from tensorflow) (25.0)\n",
            "Requirement already satisfied: protobuf!=4.21.0,!=4.21.1,!=4.21.2,!=4.21.3,!=4.21.4,!=4.21.5,<6.0.0dev,>=3.20.3 in /usr/local/lib/python3.11/dist-packages (from tensorflow) (5.29.5)\n",
            "Requirement already satisfied: requests<3,>=2.21.0 in /usr/local/lib/python3.11/dist-packages (from tensorflow) (2.32.3)\n",
            "Requirement already satisfied: setuptools in /usr/local/lib/python3.11/dist-packages (from tensorflow) (75.2.0)\n",
            "Requirement already satisfied: six>=1.12.0 in /usr/local/lib/python3.11/dist-packages (from tensorflow) (1.17.0)\n",
            "Requirement already satisfied: termcolor>=1.1.0 in /usr/local/lib/python3.11/dist-packages (from tensorflow) (3.1.0)\n",
            "Requirement already satisfied: typing-extensions>=3.6.6 in /usr/local/lib/python3.11/dist-packages (from tensorflow) (4.14.1)\n",
            "Requirement already satisfied: wrapt>=1.11.0 in /usr/local/lib/python3.11/dist-packages (from tensorflow) (1.17.2)\n",
            "Requirement already satisfied: grpcio<2.0,>=1.24.3 in /usr/local/lib/python3.11/dist-packages (from tensorflow) (1.73.1)\n",
            "Requirement already satisfied: tensorboard<2.19,>=2.18 in /usr/local/lib/python3.11/dist-packages (from tensorflow) (2.18.0)\n",
            "Requirement already satisfied: keras>=3.5.0 in /usr/local/lib/python3.11/dist-packages (from tensorflow) (3.8.0)\n",
            "Requirement already satisfied: numpy<2.1.0,>=1.26.0 in /usr/local/lib/python3.11/dist-packages (from tensorflow) (2.0.2)\n",
            "Requirement already satisfied: h5py>=3.11.0 in /usr/local/lib/python3.11/dist-packages (from tensorflow) (3.14.0)\n",
            "Requirement already satisfied: ml-dtypes<0.5.0,>=0.4.0 in /usr/local/lib/python3.11/dist-packages (from tensorflow) (0.4.1)\n",
            "Requirement already satisfied: tensorflow-io-gcs-filesystem>=0.23.1 in /usr/local/lib/python3.11/dist-packages (from tensorflow) (0.37.1)\n",
            "Requirement already satisfied: wheel<1.0,>=0.23.0 in /usr/local/lib/python3.11/dist-packages (from astunparse>=1.6.0->tensorflow) (0.45.1)\n",
            "Requirement already satisfied: rich in /usr/local/lib/python3.11/dist-packages (from keras>=3.5.0->tensorflow) (13.9.4)\n",
            "Requirement already satisfied: namex in /usr/local/lib/python3.11/dist-packages (from keras>=3.5.0->tensorflow) (0.1.0)\n",
            "Requirement already satisfied: optree in /usr/local/lib/python3.11/dist-packages (from keras>=3.5.0->tensorflow) (0.16.0)\n",
            "Requirement already satisfied: charset-normalizer<4,>=2 in /usr/local/lib/python3.11/dist-packages (from requests<3,>=2.21.0->tensorflow) (3.4.2)\n",
            "Requirement already satisfied: idna<4,>=2.5 in /usr/local/lib/python3.11/dist-packages (from requests<3,>=2.21.0->tensorflow) (3.10)\n",
            "Requirement already satisfied: urllib3<3,>=1.21.1 in /usr/local/lib/python3.11/dist-packages (from requests<3,>=2.21.0->tensorflow) (2.5.0)\n",
            "Requirement already satisfied: certifi>=2017.4.17 in /usr/local/lib/python3.11/dist-packages (from requests<3,>=2.21.0->tensorflow) (2025.7.14)\n",
            "Requirement already satisfied: markdown>=2.6.8 in /usr/local/lib/python3.11/dist-packages (from tensorboard<2.19,>=2.18->tensorflow) (3.8.2)\n",
            "Requirement already satisfied: tensorboard-data-server<0.8.0,>=0.7.0 in /usr/local/lib/python3.11/dist-packages (from tensorboard<2.19,>=2.18->tensorflow) (0.7.2)\n",
            "Requirement already satisfied: werkzeug>=1.0.1 in /usr/local/lib/python3.11/dist-packages (from tensorboard<2.19,>=2.18->tensorflow) (3.1.3)\n",
            "Requirement already satisfied: MarkupSafe>=2.1.1 in /usr/local/lib/python3.11/dist-packages (from werkzeug>=1.0.1->tensorboard<2.19,>=2.18->tensorflow) (3.0.2)\n",
            "Requirement already satisfied: markdown-it-py>=2.2.0 in /usr/local/lib/python3.11/dist-packages (from rich->keras>=3.5.0->tensorflow) (3.0.0)\n",
            "Requirement already satisfied: pygments<3.0.0,>=2.13.0 in /usr/local/lib/python3.11/dist-packages (from rich->keras>=3.5.0->tensorflow) (2.19.2)\n",
            "Requirement already satisfied: mdurl~=0.1 in /usr/local/lib/python3.11/dist-packages (from markdown-it-py>=2.2.0->rich->keras>=3.5.0->tensorflow) (0.1.2)\n"
          ]
        }
      ],
      "source": [
        "# prompt: Deep Larning\n",
        "\n",
        "!pip install tensorflow\n"
      ]
    },
    {
      "cell_type": "code",
      "execution_count": 18,
      "metadata": {
        "colab": {
          "base_uri": "https://localhost:8080/"
        },
        "id": "d6xorqcnU6h2",
        "outputId": "b4a67d33-fa49-4d21-b938-2c87ba359e1d"
      },
      "outputs": [
        {
          "output_type": "stream",
          "name": "stdout",
          "text": [
            "Collecting visionai\n",
            "  Downloading visionai-0.3.22-py3-none-any.whl.metadata (14 kB)\n",
            "Collecting coloredlogs>=15.0.0 (from visionai)\n",
            "  Downloading coloredlogs-15.0.1-py2.py3-none-any.whl.metadata (12 kB)\n",
            "Collecting docker<7.0.0,>=5.0.3 (from visionai)\n",
            "  Downloading docker-6.1.3-py3-none-any.whl.metadata (3.5 kB)\n",
            "Collecting pytest<8.0.0,>=7.2.1 (from visionai)\n",
            "  Downloading pytest-7.4.4-py3-none-any.whl.metadata (7.9 kB)\n",
            "Requirement already satisfied: pyyaml<7.0.0,>=5.4.1 in /usr/local/lib/python3.11/dist-packages (from visionai) (6.0.2)\n",
            "Requirement already satisfied: requests<3.0.0,>=2.28.2 in /usr/local/lib/python3.11/dist-packages (from visionai) (2.32.3)\n",
            "Collecting typer<0.10,>=0.7 (from typer[all]<0.10,>=0.7->visionai)\n",
            "  Downloading typer-0.9.4-py3-none-any.whl.metadata (14 kB)\n",
            "Collecting validators<0.23.0,>=0.22.0 (from visionai)\n",
            "  Downloading validators-0.22.0-py3-none-any.whl.metadata (4.7 kB)\n",
            "Collecting humanfriendly>=9.1 (from coloredlogs>=15.0.0->visionai)\n",
            "  Downloading humanfriendly-10.0-py2.py3-none-any.whl.metadata (9.2 kB)\n",
            "Requirement already satisfied: packaging>=14.0 in /usr/local/lib/python3.11/dist-packages (from docker<7.0.0,>=5.0.3->visionai) (25.0)\n",
            "Requirement already satisfied: urllib3>=1.26.0 in /usr/local/lib/python3.11/dist-packages (from docker<7.0.0,>=5.0.3->visionai) (2.5.0)\n",
            "Requirement already satisfied: websocket-client>=0.32.0 in /usr/local/lib/python3.11/dist-packages (from docker<7.0.0,>=5.0.3->visionai) (1.8.0)\n",
            "Requirement already satisfied: iniconfig in /usr/local/lib/python3.11/dist-packages (from pytest<8.0.0,>=7.2.1->visionai) (2.1.0)\n",
            "Requirement already satisfied: pluggy<2.0,>=0.12 in /usr/local/lib/python3.11/dist-packages (from pytest<8.0.0,>=7.2.1->visionai) (1.6.0)\n",
            "Requirement already satisfied: charset-normalizer<4,>=2 in /usr/local/lib/python3.11/dist-packages (from requests<3.0.0,>=2.28.2->visionai) (3.4.2)\n",
            "Requirement already satisfied: idna<4,>=2.5 in /usr/local/lib/python3.11/dist-packages (from requests<3.0.0,>=2.28.2->visionai) (3.10)\n",
            "Requirement already satisfied: certifi>=2017.4.17 in /usr/local/lib/python3.11/dist-packages (from requests<3.0.0,>=2.28.2->visionai) (2025.7.14)\n",
            "Requirement already satisfied: click<9.0.0,>=7.1.1 in /usr/local/lib/python3.11/dist-packages (from typer<0.10,>=0.7->typer[all]<0.10,>=0.7->visionai) (8.2.1)\n",
            "Requirement already satisfied: typing-extensions>=3.7.4.3 in /usr/local/lib/python3.11/dist-packages (from typer<0.10,>=0.7->typer[all]<0.10,>=0.7->visionai) (4.14.1)\n",
            "Collecting colorama<0.5.0,>=0.4.3 (from typer[all]<0.10,>=0.7->visionai)\n",
            "  Downloading colorama-0.4.6-py2.py3-none-any.whl.metadata (17 kB)\n",
            "Requirement already satisfied: shellingham<2.0.0,>=1.3.0 in /usr/local/lib/python3.11/dist-packages (from typer[all]<0.10,>=0.7->visionai) (1.5.4)\n",
            "Requirement already satisfied: rich<14.0.0,>=10.11.0 in /usr/local/lib/python3.11/dist-packages (from typer[all]<0.10,>=0.7->visionai) (13.9.4)\n",
            "Requirement already satisfied: markdown-it-py>=2.2.0 in /usr/local/lib/python3.11/dist-packages (from rich<14.0.0,>=10.11.0->typer[all]<0.10,>=0.7->visionai) (3.0.0)\n",
            "Requirement already satisfied: pygments<3.0.0,>=2.13.0 in /usr/local/lib/python3.11/dist-packages (from rich<14.0.0,>=10.11.0->typer[all]<0.10,>=0.7->visionai) (2.19.2)\n",
            "Requirement already satisfied: mdurl~=0.1 in /usr/local/lib/python3.11/dist-packages (from markdown-it-py>=2.2.0->rich<14.0.0,>=10.11.0->typer[all]<0.10,>=0.7->visionai) (0.1.2)\n",
            "Downloading visionai-0.3.22-py3-none-any.whl (156 kB)\n",
            "\u001b[2K   \u001b[90m━━━━━━━━━━━━━━━━━━━━━━━━━━━━━━━━━━━━━━━\u001b[0m \u001b[32m156.9/156.9 kB\u001b[0m \u001b[31m857.7 kB/s\u001b[0m eta \u001b[36m0:00:00\u001b[0m\n",
            "\u001b[?25hDownloading coloredlogs-15.0.1-py2.py3-none-any.whl (46 kB)\n",
            "\u001b[2K   \u001b[90m━━━━━━━━━━━━━━━━━━━━━━━━━━━━━━━━━━━━━━━━\u001b[0m \u001b[32m46.0/46.0 kB\u001b[0m \u001b[31m3.3 MB/s\u001b[0m eta \u001b[36m0:00:00\u001b[0m\n",
            "\u001b[?25hDownloading docker-6.1.3-py3-none-any.whl (148 kB)\n",
            "\u001b[2K   \u001b[90m━━━━━━━━━━━━━━━━━━━━━━━━━━━━━━━━━━━━━━━━\u001b[0m \u001b[32m148.1/148.1 kB\u001b[0m \u001b[31m3.7 MB/s\u001b[0m eta \u001b[36m0:00:00\u001b[0m\n",
            "\u001b[?25hDownloading pytest-7.4.4-py3-none-any.whl (325 kB)\n",
            "\u001b[2K   \u001b[90m━━━━━━━━━━━━━━━━━━━━━━━━━━━━━━━━━━━━━━━━\u001b[0m \u001b[32m325.3/325.3 kB\u001b[0m \u001b[31m3.4 MB/s\u001b[0m eta \u001b[36m0:00:00\u001b[0m\n",
            "\u001b[?25hDownloading typer-0.9.4-py3-none-any.whl (45 kB)\n",
            "\u001b[2K   \u001b[90m━━━━━━━━━━━━━━━━━━━━━━━━━━━━━━━━━━━━━━━━\u001b[0m \u001b[32m46.0/46.0 kB\u001b[0m \u001b[31m3.1 MB/s\u001b[0m eta \u001b[36m0:00:00\u001b[0m\n",
            "\u001b[?25hDownloading validators-0.22.0-py3-none-any.whl (26 kB)\n",
            "Downloading colorama-0.4.6-py2.py3-none-any.whl (25 kB)\n",
            "Downloading humanfriendly-10.0-py2.py3-none-any.whl (86 kB)\n",
            "\u001b[2K   \u001b[90m━━━━━━━━━━━━━━━━━━━━━━━━━━━━━━━━━━━━━━━━\u001b[0m \u001b[32m86.8/86.8 kB\u001b[0m \u001b[31m4.7 MB/s\u001b[0m eta \u001b[36m0:00:00\u001b[0m\n",
            "\u001b[?25hInstalling collected packages: validators, typer, pytest, humanfriendly, colorama, docker, coloredlogs, visionai\n",
            "  Attempting uninstall: typer\n",
            "    Found existing installation: typer 0.16.0\n",
            "    Uninstalling typer-0.16.0:\n",
            "      Successfully uninstalled typer-0.16.0\n",
            "  Attempting uninstall: pytest\n",
            "    Found existing installation: pytest 8.4.1\n",
            "    Uninstalling pytest-8.4.1:\n",
            "      Successfully uninstalled pytest-8.4.1\n",
            "\u001b[31mERROR: pip's dependency resolver does not currently take into account all the packages that are installed. This behaviour is the source of the following dependency conflicts.\n",
            "gradio 5.38.1 requires typer<1.0,>=0.12; sys_platform != \"emscripten\", but you have typer 0.9.4 which is incompatible.\u001b[0m\u001b[31m\n",
            "\u001b[0mSuccessfully installed colorama-0.4.6 coloredlogs-15.0.1 docker-6.1.3 humanfriendly-10.0 pytest-7.4.4 typer-0.9.4 validators-0.22.0 visionai-0.3.22\n"
          ]
        }
      ],
      "source": [
        "# prompt: visionai\n",
        "\n",
        "!pip install visionai\n"
      ]
    },
    {
      "cell_type": "code",
      "execution_count": null,
      "metadata": {
        "colab": {
          "base_uri": "https://localhost:8080/"
        },
        "id": "OEe_ha3D63vd",
        "outputId": "37a1b3aa-c834-44c2-e891-c525a3da09c8"
      },
      "outputs": [
        {
          "output_type": "stream",
          "name": "stdout",
          "text": [
            "Requirement already satisfied: torch in /usr/local/lib/python3.11/dist-packages (2.6.0+cu124)\n",
            "Requirement already satisfied: torchvision in /usr/local/lib/python3.11/dist-packages (0.21.0+cu124)\n",
            "Requirement already satisfied: filelock in /usr/local/lib/python3.11/dist-packages (from torch) (3.18.0)\n",
            "Requirement already satisfied: typing-extensions>=4.10.0 in /usr/local/lib/python3.11/dist-packages (from torch) (4.14.1)\n",
            "Requirement already satisfied: networkx in /usr/local/lib/python3.11/dist-packages (from torch) (3.5)\n",
            "Requirement already satisfied: jinja2 in /usr/local/lib/python3.11/dist-packages (from torch) (3.1.6)\n",
            "Requirement already satisfied: fsspec in /usr/local/lib/python3.11/dist-packages (from torch) (2025.3.0)\n",
            "Collecting nvidia-cuda-nvrtc-cu12==12.4.127 (from torch)\n",
            "  Downloading nvidia_cuda_nvrtc_cu12-12.4.127-py3-none-manylinux2014_x86_64.whl.metadata (1.5 kB)\n",
            "Collecting nvidia-cuda-runtime-cu12==12.4.127 (from torch)\n",
            "  Downloading nvidia_cuda_runtime_cu12-12.4.127-py3-none-manylinux2014_x86_64.whl.metadata (1.5 kB)\n",
            "Collecting nvidia-cuda-cupti-cu12==12.4.127 (from torch)\n",
            "  Downloading nvidia_cuda_cupti_cu12-12.4.127-py3-none-manylinux2014_x86_64.whl.metadata (1.6 kB)\n",
            "Collecting nvidia-cudnn-cu12==9.1.0.70 (from torch)\n",
            "  Downloading nvidia_cudnn_cu12-9.1.0.70-py3-none-manylinux2014_x86_64.whl.metadata (1.6 kB)\n",
            "Collecting nvidia-cublas-cu12==12.4.5.8 (from torch)\n",
            "  Downloading nvidia_cublas_cu12-12.4.5.8-py3-none-manylinux2014_x86_64.whl.metadata (1.5 kB)\n",
            "Collecting nvidia-cufft-cu12==11.2.1.3 (from torch)\n",
            "  Downloading nvidia_cufft_cu12-11.2.1.3-py3-none-manylinux2014_x86_64.whl.metadata (1.5 kB)\n",
            "Collecting nvidia-curand-cu12==10.3.5.147 (from torch)\n",
            "  Downloading nvidia_curand_cu12-10.3.5.147-py3-none-manylinux2014_x86_64.whl.metadata (1.5 kB)\n",
            "Collecting nvidia-cusolver-cu12==11.6.1.9 (from torch)\n",
            "  Downloading nvidia_cusolver_cu12-11.6.1.9-py3-none-manylinux2014_x86_64.whl.metadata (1.6 kB)\n",
            "Collecting nvidia-cusparse-cu12==12.3.1.170 (from torch)\n",
            "  Downloading nvidia_cusparse_cu12-12.3.1.170-py3-none-manylinux2014_x86_64.whl.metadata (1.6 kB)\n",
            "Requirement already satisfied: nvidia-cusparselt-cu12==0.6.2 in /usr/local/lib/python3.11/dist-packages (from torch) (0.6.2)\n",
            "Requirement already satisfied: nvidia-nccl-cu12==2.21.5 in /usr/local/lib/python3.11/dist-packages (from torch) (2.21.5)\n",
            "Requirement already satisfied: nvidia-nvtx-cu12==12.4.127 in /usr/local/lib/python3.11/dist-packages (from torch) (12.4.127)\n",
            "Collecting nvidia-nvjitlink-cu12==12.4.127 (from torch)\n",
            "  Downloading nvidia_nvjitlink_cu12-12.4.127-py3-none-manylinux2014_x86_64.whl.metadata (1.5 kB)\n",
            "Requirement already satisfied: triton==3.2.0 in /usr/local/lib/python3.11/dist-packages (from torch) (3.2.0)\n",
            "Requirement already satisfied: sympy==1.13.1 in /usr/local/lib/python3.11/dist-packages (from torch) (1.13.1)\n",
            "Requirement already satisfied: mpmath<1.4,>=1.1.0 in /usr/local/lib/python3.11/dist-packages (from sympy==1.13.1->torch) (1.3.0)\n",
            "Requirement already satisfied: numpy in /usr/local/lib/python3.11/dist-packages (from torchvision) (2.0.2)\n",
            "Requirement already satisfied: pillow!=8.3.*,>=5.3.0 in /usr/local/lib/python3.11/dist-packages (from torchvision) (11.3.0)\n",
            "Requirement already satisfied: MarkupSafe>=2.0 in /usr/local/lib/python3.11/dist-packages (from jinja2->torch) (3.0.2)\n",
            "Downloading nvidia_cublas_cu12-12.4.5.8-py3-none-manylinux2014_x86_64.whl (363.4 MB)\n",
            "\u001b[2K   \u001b[90m━━━━━━━━━━━━━━━━━━━━━━━━━━━━━━━━━━━━━━━━\u001b[0m \u001b[32m363.4/363.4 MB\u001b[0m \u001b[31m4.0 MB/s\u001b[0m eta \u001b[36m0:00:00\u001b[0m\n",
            "\u001b[?25hDownloading nvidia_cuda_cupti_cu12-12.4.127-py3-none-manylinux2014_x86_64.whl (13.8 MB)\n",
            "\u001b[2K   \u001b[90m━━━━━━━━━━━━━━━━━━━━━━━━━━━━━━━━━━━━━━━━\u001b[0m \u001b[32m13.8/13.8 MB\u001b[0m \u001b[31m40.4 MB/s\u001b[0m eta \u001b[36m0:00:00\u001b[0m\n",
            "\u001b[?25hDownloading nvidia_cuda_nvrtc_cu12-12.4.127-py3-none-manylinux2014_x86_64.whl (24.6 MB)\n",
            "\u001b[2K   \u001b[90m━━━━━━━━━━━━━━━━━━━━━━━━━━━━━━━━━━━━━━━━\u001b[0m \u001b[32m24.6/24.6 MB\u001b[0m \u001b[31m28.9 MB/s\u001b[0m eta \u001b[36m0:00:00\u001b[0m\n",
            "\u001b[?25hDownloading nvidia_cuda_runtime_cu12-12.4.127-py3-none-manylinux2014_x86_64.whl (883 kB)\n",
            "\u001b[2K   \u001b[90m━━━━━━━━━━━━━━━━━━━━━━━━━━━━━━━━━━━━━━━━\u001b[0m \u001b[32m883.7/883.7 kB\u001b[0m \u001b[31m42.6 MB/s\u001b[0m eta \u001b[36m0:00:00\u001b[0m\n",
            "\u001b[?25hDownloading nvidia_cudnn_cu12-9.1.0.70-py3-none-manylinux2014_x86_64.whl (664.8 MB)\n",
            "\u001b[2K   \u001b[90m━━━━━━━━━━━━━━━━━━━━━━━━━━━━━━━━━━━━━━━━\u001b[0m \u001b[32m664.8/664.8 MB\u001b[0m \u001b[31m1.3 MB/s\u001b[0m eta \u001b[36m0:00:00\u001b[0m\n",
            "\u001b[?25hDownloading nvidia_cufft_cu12-11.2.1.3-py3-none-manylinux2014_x86_64.whl (211.5 MB)\n",
            "\u001b[2K   \u001b[90m━━━━━━━━━━━━━━━━━━━━━━━━━━━━━━━━━━━━━━━━\u001b[0m \u001b[32m211.5/211.5 MB\u001b[0m \u001b[31m4.9 MB/s\u001b[0m eta \u001b[36m0:00:00\u001b[0m\n",
            "\u001b[?25hDownloading nvidia_curand_cu12-10.3.5.147-py3-none-manylinux2014_x86_64.whl (56.3 MB)\n",
            "\u001b[2K   \u001b[90m━━━━━━━━━━━━━━━━━━━━━━━━━━━━━━━━━━━━━━━━\u001b[0m \u001b[32m56.3/56.3 MB\u001b[0m \u001b[31m11.2 MB/s\u001b[0m eta \u001b[36m0:00:00\u001b[0m\n",
            "\u001b[?25hDownloading nvidia_cusolver_cu12-11.6.1.9-py3-none-manylinux2014_x86_64.whl (127.9 MB)\n",
            "\u001b[2K   \u001b[90m━━━━━━━━━━━━━━━━━━━━━━━━━━━━━━━━━━━━━━━━\u001b[0m \u001b[32m127.9/127.9 MB\u001b[0m \u001b[31m9.1 MB/s\u001b[0m eta \u001b[36m0:00:00\u001b[0m\n",
            "\u001b[?25hDownloading nvidia_cusparse_cu12-12.3.1.170-py3-none-manylinux2014_x86_64.whl (207.5 MB)\n",
            "\u001b[2K   \u001b[90m━━━━━━━━━━━━━━━━━━━━━━━━━━━━━━━━━━━━━━━━\u001b[0m \u001b[32m207.5/207.5 MB\u001b[0m \u001b[31m2.2 MB/s\u001b[0m eta \u001b[36m0:00:00\u001b[0m\n",
            "\u001b[?25hDownloading nvidia_nvjitlink_cu12-12.4.127-py3-none-manylinux2014_x86_64.whl (21.1 MB)\n",
            "\u001b[2K   \u001b[90m━━━━━━━━━━━━━━━━━━━━━━━━━━━━━━━━━━━━━━━━\u001b[0m \u001b[32m21.1/21.1 MB\u001b[0m \u001b[31m48.6 MB/s\u001b[0m eta \u001b[36m0:00:00\u001b[0m\n",
            "\u001b[?25h"
          ]
        }
      ],
      "source": [
        "# prompt: Pytorch-GAN\n",
        "\n",
        "!pip install torch torchvision\n",
        "!git clone https://github.com/eriklindernoren/PyTorch-GAN.git\n",
        "%cd PyTorch-GAN\n",
        "!python main.py --config dcgan --dataset mnist\n"
      ]
    },
    {
      "cell_type": "code",
      "execution_count": null,
      "metadata": {
        "id": "-X_LL4_nAwCa"
      },
      "outputs": [],
      "source": [
        "# This is a Pauli X gate. It is an object instance.\n",
        "x_gate = cirq.X\n",
        "# Applying it to the qubit at location (0, 0) (defined above)\n",
        "# turns it into an operation.\n",
        "x_op = x_gate(qubits[0])\n",
        "\n",
        "print(x_op)"
      ]
    },
    {
      "cell_type": "markdown",
      "metadata": {
        "id": "0N7X3nmFAwCd"
      },
      "source": [
        "A `cirq.Moment` is simply a collection of operations, each of which operates on a different set of qubits, and which conceptually represents these operations as occurring during this abstract time slice. The `Moment` structure itself is not required to be related to the actual scheduling of the operations on a quantum computer or via a simulator, though it can be. For example, here is a `Moment` in which **Pauli** `X` and a `CZ` gate operate on three qubits:"
      ]
    },
    {
      "cell_type": "code",
      "execution_count": null,
      "metadata": {
        "id": "naO0-nS0AwCe"
      },
      "outputs": [],
      "source": [
        "cz = cirq.CZ(qubits[0], qubits[1])\n",
        "x = cirq.X(qubits[2])\n",
        "moment = cirq.Moment(x, cz)\n",
        "\n",
        "print(moment)"
      ]
    },
    {
      "cell_type": "markdown",
      "metadata": {
        "id": "8TxICnXCAwCh"
      },
      "source": [
        "The above is not the only way one can construct moments, nor even the typical method, but illustrates that a `Moment` is just a collection of operations on disjoint sets of qubits.\n",
        "\n",
        "Finally, at the top level, a `cirq.Circuit` is an ordered series of `cirq.Moment` objects. The first `Moment` in this series contains the first `Operations` that will be applied. Here, for example, is a simple circuit made up of two moments:"
      ]
    },
    {
      "cell_type": "code",
      "execution_count": null,
      "metadata": {
        "id": "W7ToOyp9AwCi"
      },
      "outputs": [],
      "source": [
        "cz01 = cirq.CZ(qubits[0], qubits[1])\n",
        "x2 = cirq.X(qubits[2])\n",
        "cz12 = cirq.CZ(qubits[1], qubits[2])\n",
        "moment0 = cirq.Moment([cz01, x2])\n",
        "moment1 = cirq.Moment([cz12])\n",
        "circuit = cirq.Circuit((moment0, moment1))\n",
        "\n",
        "print(circuit)"
      ]
    },
    {
      "cell_type": "markdown",
      "metadata": {
        "id": "YMXONr0SAwCl"
      },
      "source": [
        "Note that the above is one of the many ways to construct a `Circuit`, which illustrates the concept that a `Circuit` is an iterable of `Moment` objects."
      ]
    },
    {
      "cell_type": "markdown",
      "metadata": {
        "id": "GfI_Xv4mgnwC"
      },
      "source": []
    },
    {
      "cell_type": "code",
      "execution_count": null,
      "metadata": {
        "id": "WtwxyC1Ogl-w"
      },
      "outputs": [],
      "source": [
        "# prompt: Tax withholding\n",
        "\n",
        "import cirq\n",
        "from cirq import H, Z, X, CZ, T, S, Y\n",
        "\n",
        "# This code snippet is a simple example of how to use Cirq to create a circuit.\n",
        "\n",
        "# Create a circuit with three qubits.\n",
        "q0, q1, q2 = cirq.LineQubit.range(3)\n",
        "circuit = cirq.Circuit(\n",
        "    # Apply a Hadamard gate to the first qubit.\n",
        "    H(q0),\n",
        "\n",
        "    # Apply a Z gate to the second qubit.\n",
        "    Z(q1),\n",
        "\n",
        "    # Apply a CNOT gate with the first qubit as the control and the second qubit as the target.\n",
        "    CZ(q0, q1),\n",
        "\n",
        "    # Apply a T gate to the third qubit.\n",
        "    T(q2),\n",
        "\n",
        "    # Apply a S gate to the third qubit.\n",
        "    S(q2),\n",
        "\n",
        "    # Apply a Y gate to the third qubit.\n",
        "    Y(q2),\n",
        ")\n",
        "\n",
        "# Print the circuit.\n",
        "print(circuit)\n"
      ]
    },
    {
      "cell_type": "code",
      "execution_count": null,
      "metadata": {
        "id": "GypdCedfEHsD"
      },
      "outputs": [],
      "source": [
        "# prompt: cirq\n",
        "\n",
        "import cirq\n",
        "from cirq import H, Z, X, CZ, T, S, Y\n",
        "\n",
        "# Create a circuit with three qubits.\n",
        "q0, q1, q2 = cirq.LineQubit.range(3)\n",
        "circuit = cirq.Circuit(\n",
        "    # Apply a Hadamard gate to the first qubit.\n",
        "    H(q0),\n",
        "\n",
        "    # Apply a Z gate to the second qubit.\n",
        "    Z(q1),\n",
        "\n",
        "    # Apply a CNOT gate with the first qubit as the control and the second qubit as the target.\n",
        "    CZ(q0, q1),\n",
        "\n",
        "    # Apply a T gate to the third qubit.\n",
        "    T(q2),\n",
        "\n",
        "    # Apply a S gate to the third qubit.\n",
        "    S(q2),\n",
        "\n",
        "    # Apply a Y gate to the third qubit.\n",
        "    Y(q2),\n",
        ")\n",
        "\n",
        "# Print the circuit.\n",
        "print(circuit)\n",
        "\n"
      ]
    },
    {
      "cell_type": "code",
      "execution_count": null,
      "metadata": {
        "id": "-4WPfPFpVC9G"
      },
      "outputs": [],
      "source": [
        "# prompt: visionai\n",
        "\n",
        "!pip install visionai\n"
      ]
    },
    {
      "cell_type": "code",
      "execution_count": null,
      "metadata": {
        "id": "1I5c5fUgDQ45"
      },
      "outputs": [],
      "source": [
        "# prompt: Pytorch-GAN\n",
        "\n",
        "!pip install torch torchvision\n",
        "!git clone https://github.com/eriklindernoren/PyTorch-GAN.git\n",
        "%cd PyTorch-GAN\n",
        "!python main.py --config dcgan --dataset mnist\n"
      ]
    },
    {
      "cell_type": "code",
      "execution_count": null,
      "metadata": {
        "id": "omSf7IYW8eaA"
      },
      "outputs": [],
      "source": [
        "# prompt: pip install newspaper\n",
        "\n",
        "!pip install newspaper3k\n"
      ]
    },
    {
      "cell_type": "code",
      "execution_count": null,
      "metadata": {
        "id": "5ldylGQjw_qD"
      },
      "outputs": [],
      "source": [
        "# prompt: Crime Activities\n",
        "\n",
        "import cirq\n",
        "from cirq import H, Z, X, CZ, T, S, Y\n",
        "\n",
        "# Create a circuit with three qubits.\n",
        "q0, q1, q2 = cirq.LineQubit.range(3)\n",
        "circuit = cirq.Circuit(\n",
        "    # Apply a Hadamard gate to the first qubit.\n",
        "    H(q0),\n",
        "\n",
        "    # Apply a Z gate to the second qubit.\n",
        "    Z(q1),\n",
        "\n",
        "    # Apply a CNOT gate with the first qubit as the control and the second qubit as the target.\n",
        "    CZ(q0, q1),\n",
        "\n",
        "    # Apply a T gate to the third qubit.\n",
        "    T(q2),\n",
        "\n",
        "    # Apply a S gate to the third qubit.\n",
        "    S(q2),\n",
        "\n",
        "    # Apply a Y gate to the third qubit.\n",
        "    Y(q2),\n",
        "\n",
        "    # Apply a CNOT gate with the second qubit as the control and the third qubit as the target.\n",
        "    CZ(q1, q2),\n",
        "\n",
        "    # Apply an X gate to the first qubit.\n",
        "    X(q0),\n",
        "\n",
        "    # Apply a Z gate to the second qubit.\n",
        "    Z(q1),\n",
        "\n",
        "    # Apply a CNOT gate with the first qubit as the control and the second qubit as the target.\n",
        "    CZ(q0, q1),\n",
        "\n",
        "    # Apply a T gate to the third qubit.\n",
        "    T(q2),\n",
        "\n",
        "    # Apply a S gate to the third qubit.\n",
        "    S(q2),\n",
        "\n",
        "    # Apply a Y gate to the third qubit.\n",
        "    Y(q2),\n",
        ")\n",
        "\n",
        "# Print the circuit.\n",
        "print(circuit)\n"
      ]
    },
    {
      "cell_type": "code",
      "source": [],
      "metadata": {
        "id": "bW22vi8NGKrj"
      },
      "execution_count": null,
      "outputs": []
    },
    {
      "cell_type": "code",
      "source": [
        "# prompt: jageocoder\n",
        "\n",
        "!pip install jageocoder\n"
      ],
      "metadata": {
        "id": "UYVl1sk-I5I6"
      },
      "execution_count": null,
      "outputs": []
    },
    {
      "cell_type": "code",
      "execution_count": null,
      "metadata": {
        "id": "xWm5eZwT8gqL"
      },
      "outputs": [],
      "source": [
        "# prompt: Scresolutions\n",
        "\n",
        "# Create a circuit with three qubits.\n",
        "q0, q1, q2 = cirq.LineQubit.range(3)\n",
        "circuit = cirq.Circuit(\n",
        "    # Apply a Hadamard gate to the first qubit.\n",
        "    H(q0),\n",
        "\n",
        "    # Apply a Z gate to the second qubit.\n",
        "    Z(q1),\n",
        "\n",
        "    # Apply a CNOT gate with the first qubit as the control and the second qubit as the target.\n",
        "    CZ(q0, q1),\n",
        "\n",
        "    # Apply a T gate to the third qubit.\n",
        "    T(q2),\n",
        "\n",
        "    # Apply a S gate to the third qubit.\n",
        "    S(q2),\n",
        "\n",
        "    # Apply a Y gate to the third qubit.\n",
        "    Y(q2),\n",
        "\n",
        "    # Apply a CNOT gate with the second qubit as the control and the third qubit as the target.\n",
        "    CZ(q1, q2),\n",
        "\n",
        "    # Apply an X gate to the first qubit.\n",
        "    X(q0),\n",
        "\n",
        "    # Apply a Z gate to the second qubit.\n",
        "    Z(q1),\n",
        "\n",
        "    # Apply a CNOT gate with the first qubit as the control and the second qubit as the target.\n",
        "    CZ(q0, q1),\n",
        "\n",
        "    # Apply a T gate to the third qubit.\n",
        "    T(q2),\n",
        "\n",
        "    # Apply a S gate to the third qubit.\n",
        "    S(q2),\n",
        "\n",
        "    # Apply a Y gate to the third qubit.\n",
        "    Y(q2),\n",
        ")\n",
        "\n",
        "# Print the circuit.\n",
        "print(circuit)\n",
        "\n",
        "# Create a circuit with three qubits.\n",
        "q0, q1, q2 = cirq.LineQubit.range(3)\n",
        "circuit = cirq.Circuit(\n",
        "    # Apply a Hadamard gate to the first qubit.\n",
        "    H(q0),\n",
        "\n",
        "    # Apply a Z gate to the second qubit.\n",
        "    Z(q1),\n",
        "\n",
        "    # Apply a CNOT gate with the first qubit as the control and the second qubit as the target.\n",
        "    CZ(q0, q1),\n",
        "\n",
        "    # Apply a T gate to the third qubit.\n",
        "    T(q2),\n",
        "\n",
        "    # Apply a S gate to the third qubit.\n",
        "    S(q2),\n",
        "\n",
        "    # Apply a Y gate to the third qubit.\n",
        "    Y(q2),\n",
        "\n",
        "    # Apply a CNOT gate with the second qubit as the control and the third qubit as the target.\n",
        "    CZ(q1, q2),\n",
        "\n",
        "    # Apply an X gate to the first qubit.\n",
        "    X(q0),\n",
        "\n",
        "    # Apply a Z gate to the second qubit.\n",
        "    Z(q1),\n",
        "\n",
        "    # Apply a CNOT gate with the first qubit as the control and the second qubit as the target.\n",
        "    CZ(q0, q1),\n",
        "\n",
        "    # Apply a T gate to the third qubit.\n",
        "    T(q2),\n",
        "\n",
        "    # Apply a S gate to the third qubit.\n",
        "    S(q2),\n",
        "\n",
        "    # Apply a Y gate to the third qubit.\n",
        "    Y(q2),\n",
        ")\n",
        "\n",
        "# Print the circuit.\n",
        "print(circuit)\n",
        "\n",
        "# Create a circuit with three qubits.\n",
        "q0, q1, q2 = cirq.LineQubit.range(3)\n",
        "circuit = cirq.Circuit(\n",
        "    # Apply a Hadamard gate to the first qubit.\n",
        "    H(q0),\n",
        "\n",
        "    # Apply a Z gate to the second qubit.\n",
        "    Z(q1),\n",
        "\n",
        "    # Apply a CNOT gate with the first qubit as the control and the second qubit as the target.\n",
        "    CZ(q0, q1),\n",
        "\n",
        "    # Apply a T gate to the third qubit.\n",
        "    T(q2),\n",
        "\n",
        "    # Apply a S gate to the third qubit.\n",
        "    S(q2),\n",
        "\n",
        "    # Apply a Y gate to the third qubit.\n",
        "    Y(q2),\n",
        "\n",
        "    # Apply a CNOT gate with the second qubit as the control and the third qubit as the target.\n",
        "    CZ(q1, q2),\n",
        "\n",
        "    # Apply an X gate to the first qubit.\n",
        "    X(q0),\n",
        "\n",
        "    # Apply a Z gate to the second qubit.\n",
        "    Z(q1),\n",
        "\n",
        "    # Apply a CNOT gate with the first qubit as the control and the second qubit as the target.\n",
        "    CZ(q0, q1),\n",
        "\n",
        "    # Apply a T gate to the third qubit.\n",
        "    T(q2),\n",
        "\n",
        "    # Apply a S gate to the third qubit.\n",
        "    S(q2),\n",
        "\n",
        "    # Apply a Y gate to the third qubit.\n",
        "    Y(q2),\n",
        ")\n",
        "\n",
        "# Print the circuit.\n",
        "print(circuit)\n",
        "\n",
        "# Create a circuit with three qubits.\n",
        "q0, q1, q2 = cirq.LineQubit.range(3)\n",
        "circuit = cirq.Circuit(\n",
        "    # Apply a Hadamard gate to the first qubit.\n",
        "    H(q0),\n",
        "\n",
        "    # Apply a Z gate to the second qubit.\n",
        "    Z(q1),\n",
        "\n",
        "    # Apply a CNOT gate with the first qubit as the control and the second qubit as the target.\n",
        "    CZ(q0, q1),\n",
        "\n",
        "    # Apply a T gate to the third qubit.\n",
        "    T(q2),\n",
        "\n",
        "    # Apply a S gate to the third qubit.\n",
        "    S(q2),\n",
        "\n",
        "    # Apply a Y gate to the third qubit.\n",
        "    Y(q2),\n",
        "\n",
        "    # Apply a CNOT gate with the second qubit as the control and the third qubit as the target.\n",
        "    CZ(q1, q2),\n",
        "\n",
        "    # Apply an X gate to the first qubit.\n",
        "    X(q0),\n",
        "\n",
        "    # Apply a Z gate to the second qubit.\n",
        "    Z(q1),\n",
        "\n",
        "    # Apply a CNOT gate with the first qubit as the control and the second qubit as the target.\n",
        "    CZ(q0, q1),\n",
        "\n",
        "    # Apply a T gate to the third qubit.\n",
        "    T(q2),\n",
        "\n",
        "    # Apply a S gate to the third qubit.\n",
        "    S(q2),\n",
        "\n",
        "    # Apply a Y gate to the third qubit.\n",
        "    Y(q2),\n",
        ")\n",
        "\n",
        "# Print the circuit.\n",
        "print(circuit)\n",
        "\n",
        "# Create a circuit with three qubits.\n",
        "q0, q1, q2 = cirq.LineQubit.range(3)\n",
        "circuit = cirq.Circuit(\n",
        "    # Apply a Hadamard gate to the first qubit.\n",
        "    H(q0),\n",
        "\n",
        "    # Apply a Z gate to the second qubit.\n",
        "    Z(q1),\n",
        "\n",
        "    # Apply a CNOT gate with the first qubit as the control and the second qubit as the target.\n",
        "    CZ(q0, q1),\n",
        "\n",
        "    # Apply a T gate to the third qubit.\n",
        "    T(q2),\n",
        "\n",
        "    # Apply a S gate to the third qubit.\n",
        "    S(q2),\n",
        "\n",
        "    # Apply a Y gate to the third qubit.\n",
        "    Y(q2),\n",
        "\n",
        "    # Apply a CNOT gate with the second qubit as the control and the third qubit as the target.\n",
        "    CZ(q1, q2),\n",
        "\n",
        "    # Apply an X gate to the first qubit.\n",
        "    X(q0),\n",
        "\n",
        "    # Apply a Z gate to the second qubit.\n",
        "    Z(q1),\n",
        "\n",
        "    # Apply a CNOT gate with the first qubit as the control and the second qubit as the target.\n",
        "    CZ(q0, q1),\n",
        "\n",
        "    # Apply a T gate to the third qubit.\n",
        "    T(q2),\n",
        "\n",
        "    # Apply a S gate to the third qubit.\n",
        "    S(q2),\n",
        "\n",
        "    # Apply a Y gate to the third qubit.\n",
        "    Y(q2),\n",
        ")\n",
        "\n",
        "# Print the circuit.\n",
        "print(circuit)\n",
        "\n",
        "# Create a circuit with three qubits.\n",
        "q0, q1, q2 = cirq.LineQubit.range(3)\n",
        "circuit = cirq.Circuit(\n",
        "    # Apply a Hadamard gate to the first qubit.\n",
        "    H(q0),\n",
        "\n",
        "    # Apply a Z gate to the second qubit.\n",
        "    Z(q1),\n",
        "\n",
        "    # Apply a CNOT gate with the first qubit as the control and the second qubit as the target.\n",
        "    CZ(q0, q1),\n",
        "\n",
        "    # Apply a T gate to the third qubit.\n",
        "    T(q2),\n",
        "\n",
        "    # Apply a S gate to the third qubit.\n",
        "    S(q2),\n",
        "\n",
        "    # Apply a Y gate to the third qubit.\n",
        "    Y(q2),\n",
        "\n",
        "    # Apply a CNOT gate with the second qubit as the control and the third qubit as the target.\n",
        "    CZ(q1, q2),\n",
        "\n",
        "    # Apply an X gate to the first qubit.\n",
        "    X(q0),\n",
        "\n",
        "    # Apply a Z gate to the second qubit.\n",
        "    Z(q1),\n",
        "\n",
        "    # Apply a CNOT gate with the first qubit as the control and the second qubit as the target.\n",
        "    CZ(q0, q1),\n",
        "\n",
        "    # Apply a T gate to the third qubit.\n",
        "    T(q2),\n",
        "\n",
        "    # Apply a S gate to the third qubit.\n",
        "    S(q2),\n",
        "\n",
        "    # Apply a Y gate to the third qubit.\n",
        "    Y(q2),\n",
        ")\n",
        "\n",
        "# Print the circuit.\n",
        "print"
      ]
    },
    {
      "cell_type": "code",
      "execution_count": null,
      "metadata": {
        "id": "SozCF5Z_1hdN"
      },
      "outputs": [],
      "source": [
        "# prompt: Deep Larning\n",
        "\n",
        "!pip install tensorflow\n"
      ]
    },
    {
      "cell_type": "code",
      "source": [
        "# prompt: pip automata\n",
        "\n",
        "!pip install automan\n"
      ],
      "metadata": {
        "id": "T9UPhr4F51s6"
      },
      "execution_count": null,
      "outputs": []
    },
    {
      "cell_type": "code",
      "source": [
        "# prompt: neocongnitron-java\n",
        "\n",
        "!git clone https://github.com/NeuromorphicComputation/neocongnitron-java.git\n",
        "%cd neocongnitron-java\n",
        "!mvn clean compile assembly:single\n"
      ],
      "metadata": {
        "id": "G1cMaqszT9-_"
      },
      "execution_count": null,
      "outputs": []
    },
    {
      "cell_type": "code",
      "source": [
        "# prompt: pip numpy\n",
        "\n",
        "!pip install numpy\n"
      ],
      "metadata": {
        "id": "QzUaZnk-VND2"
      },
      "execution_count": null,
      "outputs": []
    },
    {
      "cell_type": "code",
      "source": [
        "# prompt: mataplotlib\n",
        "\n",
        "!pip install matplotlib\n"
      ],
      "metadata": {
        "id": "T4GqtcwCVX16"
      },
      "execution_count": null,
      "outputs": []
    },
    {
      "cell_type": "code",
      "source": [
        "# prompt: pip tensoeflow\n",
        "\n",
        "!pip install tensorflow\n"
      ],
      "metadata": {
        "id": "3Brqr2l_V4rW"
      },
      "execution_count": null,
      "outputs": []
    },
    {
      "cell_type": "code",
      "source": [
        "# prompt: opencv-python\n",
        "\n",
        "!pip install opencv-python\n"
      ],
      "metadata": {
        "id": "5JNwNzyAVv_S"
      },
      "execution_count": null,
      "outputs": []
    },
    {
      "cell_type": "code",
      "source": [
        "# prompt: tqdm\n",
        "\n",
        "!pip install tqdm\n"
      ],
      "metadata": {
        "id": "IV8fAErUVfGs"
      },
      "execution_count": null,
      "outputs": []
    },
    {
      "cell_type": "code",
      "execution_count": null,
      "metadata": {
        "id": "kbgL9KT5VLuO"
      },
      "outputs": [],
      "source": [
        "# prompt: visionai\n",
        "\n",
        "!pip install visionai\n"
      ]
    },
    {
      "cell_type": "markdown",
      "metadata": {
        "id": "w0hd9Gyvglle"
      },
      "source": []
    },
    {
      "cell_type": "markdown",
      "metadata": {
        "id": "93Wlr_HjAwCm"
      },
      "source": [
        "## Constructing circuits\n",
        "\n",
        "Constructing Circuits as a series of hand-crafted `Moment` objects is tedious. Instead, Cirq provides a variety of different ways to create a `Circuit`.\n",
        "\n",
        "One of the most useful ways to construct a `Circuit` is by appending onto the `Circuit` with the `Circuit.append` method.\n"
      ]
    },
    {
      "cell_type": "code",
      "execution_count": null,
      "metadata": {
        "id": "7xtjmYzKAwCn"
      },
      "outputs": [],
      "source": [
        "q0, q1, q2 = [cirq.GridQubit(i, 0) for i in range(3)]\n",
        "circuit = cirq.Circuit()\n",
        "circuit.append([cirq.CZ(q0, q1), cirq.H(q2)])\n",
        "\n",
        "print(circuit)"
      ]
    },
    {
      "cell_type": "code",
      "execution_count": null,
      "metadata": {
        "id": "7fmGuINNUcTg"
      },
      "outputs": [],
      "source": [
        "# prompt: greeting\n",
        "\n",
        "print(\"Hello, World!\")\n"
      ]
    },
    {
      "cell_type": "code",
      "execution_count": null,
      "metadata": {
        "id": "_fXSLzZ8BTpE"
      },
      "outputs": [],
      "source": [
        "# prompt: unesco/mediabank\n",
        "\n",
        "!curl -Lo unesco.zip https://unesco.box.com/shared/static/0q0000388l80780w49x56k46w42496z.zip\n",
        "!unzip unesco.zip\n"
      ]
    },
    {
      "cell_type": "code",
      "execution_count": null,
      "metadata": {
        "id": "3_S0sp3kqCWz"
      },
      "outputs": [],
      "source": [
        "# prompt: pokemon\n",
        "\n",
        "import cirq\n",
        "from cirq import H, Z, X, CZ, T, S, Y\n",
        "\n",
        "# Create a circuit with three qubits.\n",
        "q0, q1, q2 = cirq.LineQubit.range(3)\n",
        "circuit = cirq.Circuit(\n",
        "    # Apply a Hadamard gate to the first qubit.\n",
        "    H(q0),\n",
        "\n",
        "    # Apply a Z gate to the second qubit.\n",
        "    Z(q1),\n",
        "\n",
        "    # Apply a CNOT gate with the first qubit as the control and the second qubit as the target.\n",
        "    CZ(q0, q1),\n",
        "\n",
        "    # Apply a T gate to the third qubit.\n",
        "    T(q2),\n",
        "\n",
        "    # Apply a S gate to the third qubit.\n",
        "    S(q2),\n",
        "\n",
        "    # Apply a Y gate to the third qubit.\n",
        "    Y(q2),\n",
        "\n",
        "    # Apply a CNOT gate with the second qubit as the control and the third qubit as the target.\n",
        "    CZ(q1, q2),\n",
        "\n",
        "    # Apply an X gate to the first qubit.\n",
        "    X(q0),\n",
        "\n",
        "    # Apply a Z gate to the second qubit.\n",
        "    Z(q1),\n",
        "\n",
        "    # Apply a CNOT gate with the first qubit as the control and the second qubit as the target.\n",
        "    CZ(q0, q1),\n",
        "\n",
        "    # Apply a T gate to the third qubit.\n",
        "    T(q2),\n",
        "\n",
        "    # Apply a S gate to the third qubit.\n",
        "    S(q2),\n",
        "\n",
        "    # Apply a Y gate to the third qubit.\n",
        "    Y(q2),\n",
        ")\n",
        "\n",
        "# Print the circuit.\n",
        "print(circuit)\n",
        "\n"
      ]
    },
    {
      "cell_type": "code",
      "execution_count": null,
      "metadata": {
        "id": "1H1Hy_95ITPU"
      },
      "outputs": [],
      "source": [
        "# prompt: open-sci\n",
        "\n",
        "!pip install os-client-config\n",
        "!pip install openstacksdk\n"
      ]
    },
    {
      "cell_type": "code",
      "execution_count": null,
      "metadata": {
        "id": "tV1MQe-xtp6W"
      },
      "outputs": [],
      "source": [
        "# prompt: Eleder person\n",
        "\n",
        "print(\"Elder person\")\n",
        "\n"
      ]
    },
    {
      "cell_type": "code",
      "execution_count": null,
      "metadata": {
        "id": "BRwkgxL2LWTB"
      },
      "outputs": [],
      "source": [
        "# prompt: scanpy\n",
        "\n",
        "!pip install scanpy\n"
      ]
    },
    {
      "cell_type": "code",
      "execution_count": null,
      "metadata": {
        "id": "0fswd5lPVVdA"
      },
      "outputs": [],
      "source": [
        "# prompt: visonai\n",
        "\n",
        "!pip install visionai\n"
      ]
    },
    {
      "cell_type": "code",
      "execution_count": null,
      "metadata": {
        "id": "Xg1q-6epD37O"
      },
      "outputs": [],
      "source": [
        "# prompt: Pytorch-GAN\n",
        "\n",
        "!pip install torch torchvision\n",
        "!git clone https://github.com/eriklindernoren/PyTorch-GAN.git\n",
        "%cd PyTorch-GAN\n",
        "!python main.py --config dcgan --dataset mnist\n"
      ]
    },
    {
      "cell_type": "code",
      "execution_count": null,
      "metadata": {
        "id": "DgIq_lPIERxM"
      },
      "outputs": [],
      "source": [
        "# prompt: Personal Space\n",
        "\n",
        "print(\"Personal Space\")\n"
      ]
    },
    {
      "cell_type": "code",
      "execution_count": null,
      "metadata": {
        "id": "6atvEUoPMlBW"
      },
      "outputs": [],
      "source": [
        "# prompt: United Nations\n",
        "\n",
        "!curl -Lo unesco.zip https://unesco.box.com/shared/static/0q0000388l80780w49x56k46w42496z.zip\n",
        "!unzip unesco.zip\n"
      ]
    },
    {
      "cell_type": "code",
      "execution_count": null,
      "metadata": {
        "id": "-j3cM-wiVlXa"
      },
      "outputs": [],
      "source": [
        "# prompt: visionai\n",
        "\n",
        "!pip install visionai\n"
      ]
    },
    {
      "cell_type": "code",
      "execution_count": null,
      "metadata": {
        "id": "IBxQLBoNEXS5"
      },
      "outputs": [],
      "source": [
        "# prompt: Pytorch-GAN\n",
        "\n",
        "!pip install torch torchvision\n",
        "!git clone https://github.com/eriklindernoren/PyTorch-GAN.git\n",
        "%cd PyTorch-GAN\n",
        "!python main.py --config dcgan --dataset mnist\n"
      ]
    },
    {
      "cell_type": "code",
      "execution_count": null,
      "metadata": {
        "id": "rMobNbjzj2nS"
      },
      "outputs": [],
      "source": [
        "# prompt: fprime\n",
        "\n",
        "!git clone https://github.com/nasa/fprime.git\n",
        "%cd fprime\n",
        "!bazel build fprime/cmake/generated/fprime_autogen\n",
        "!bazel test fprime/cmake/generated/fprime_autogen\n"
      ]
    },
    {
      "cell_type": "code",
      "execution_count": null,
      "metadata": {
        "id": "3oKdoaBoEoBh"
      },
      "outputs": [],
      "source": [
        "# prompt: Ganma Rays\n",
        "\n",
        "print(\"Gamma Rays\")\n",
        "\n"
      ]
    },
    {
      "cell_type": "code",
      "execution_count": null,
      "metadata": {
        "id": "wzZXgECwmWUn"
      },
      "outputs": [],
      "source": [
        "# prompt: ibmos2spark\n",
        "\n",
        "!pip install ibmos2spark\n"
      ]
    },
    {
      "cell_type": "code",
      "execution_count": null,
      "metadata": {
        "id": "B99sIlbgVsXg"
      },
      "outputs": [],
      "source": [
        "# prompt: visonai\n",
        "\n",
        "!pip install visionai\n"
      ]
    },
    {
      "cell_type": "code",
      "execution_count": null,
      "metadata": {
        "id": "0nAyNKuCbeBn"
      },
      "outputs": [],
      "source": [
        "# prompt: Pytorch-GAN\n",
        "\n",
        "!pip install torch torchvision\n",
        "!git clone https://github.com/eriklindernoren/PyTorch-GAN.git\n",
        "%cd PyTorch-GAN\n",
        "!python main.py --config dcgan --dataset mnist\n"
      ]
    },
    {
      "cell_type": "code",
      "execution_count": null,
      "metadata": {
        "id": "Ix8CLxhHdGRs"
      },
      "outputs": [],
      "source": [
        "# prompt: googlemaps\n",
        "\n",
        "!pip install googlemaps\n"
      ]
    },
    {
      "cell_type": "code",
      "execution_count": null,
      "metadata": {
        "id": "NvuEmDFeeay3"
      },
      "outputs": [],
      "source": [
        "# prompt: httpx\n",
        "\n",
        "!pip install httpx\n"
      ]
    },
    {
      "cell_type": "code",
      "execution_count": null,
      "metadata": {
        "id": "Ie3IbltNgBKR"
      },
      "outputs": [],
      "source": [
        "# prompt: openai\n",
        "\n",
        "!pip install openai\n"
      ]
    },
    {
      "cell_type": "markdown",
      "metadata": {
        "id": "8iaChGZShCT1"
      },
      "source": []
    },
    {
      "cell_type": "code",
      "execution_count": null,
      "metadata": {
        "id": "Sg2Z-00uhRmS"
      },
      "outputs": [],
      "source": [
        "# prompt: windows11\n",
        "\n",
        "!wget https://go.microsoft.com/fwlink/?LinkID=2178244 -OutFile Windows11InstallationAssistant.exe\n"
      ]
    },
    {
      "cell_type": "code",
      "execution_count": null,
      "metadata": {
        "id": "-Rm_YGOwi5RL"
      },
      "outputs": [],
      "source": [
        "# prompt: computer\n",
        "\n",
        "print(\"computer\")\n"
      ]
    },
    {
      "cell_type": "code",
      "execution_count": null,
      "metadata": {
        "id": "Kr0Xq_sEi8x1"
      },
      "outputs": [],
      "source": [
        "# prompt: informastion\n",
        "\n",
        "print(\"Information is a fundamental concept in many fields, including computer science, information theory, and philosophy. It is often defined as the representation of knowledge or data in a form that can be processed or communicated. Information can be stored, transmitted, and manipulated in various ways, such as through written text, spoken language, images, and digital data.\")\n"
      ]
    },
    {
      "cell_type": "code",
      "execution_count": null,
      "metadata": {
        "id": "6D7WXau3jCgt"
      },
      "outputs": [],
      "source": [
        "# prompt: cirq\n",
        "\n",
        "import cirq\n",
        "from cirq import H, Z, X, CZ, T, S, Y\n",
        "\n",
        "# Create a circuit with three qubits.\n",
        "q0, q1, q2 = cirq.LineQubit.range(3)\n",
        "circuit = cirq.Circuit(\n",
        "    # Apply a Hadamard gate to the first qubit.\n",
        "    H(q0),\n",
        "\n",
        "    # Apply a Z gate to the second qubit.\n",
        "    Z(q1),\n",
        "\n",
        "    # Apply a CNOT gate with the first qubit as the control and the second qubit as the target.\n",
        "    CZ(q0, q1),\n",
        "\n",
        "    # Apply a T gate to the third qubit.\n",
        "    T(q2),\n",
        "\n",
        "    # Apply a S gate to the third qubit.\n",
        "    S(q2),\n",
        "\n",
        "    # Apply a Y gate to the third qubit.\n",
        "    Y(q2),\n",
        ")\n",
        "\n",
        "# Print the circuit.\n",
        "print(circuit)\n"
      ]
    },
    {
      "cell_type": "code",
      "execution_count": null,
      "metadata": {
        "id": "psb_uhA4lVu5"
      },
      "outputs": [],
      "source": [
        "# prompt: transformers\n",
        "\n",
        "!pip install transformers\n"
      ]
    },
    {
      "cell_type": "code",
      "execution_count": null,
      "metadata": {
        "id": "GFINxL0wmZvr"
      },
      "outputs": [],
      "source": [
        "# prompt: Open CV\n",
        "\n",
        "!pip install opencv-python\n"
      ]
    },
    {
      "cell_type": "code",
      "execution_count": null,
      "metadata": {
        "id": "kP8GBxrPnMWw"
      },
      "outputs": [],
      "source": [
        "# prompt: braindecorde\n",
        "\n",
        "!pip install braindecode\n"
      ]
    },
    {
      "cell_type": "code",
      "execution_count": null,
      "metadata": {
        "id": "5vISDjIVPUfP"
      },
      "outputs": [],
      "source": [
        "# prompt: emspy\n",
        "\n",
        "!pip install emspy\n"
      ]
    },
    {
      "cell_type": "code",
      "execution_count": null,
      "metadata": {
        "id": "L2vO60WFV1t0"
      },
      "outputs": [],
      "source": [
        "# prompt: visionai\n",
        "\n",
        "!pip install visionai\n"
      ]
    },
    {
      "cell_type": "code",
      "execution_count": null,
      "metadata": {
        "id": "uJ-bymT9EtQE"
      },
      "outputs": [],
      "source": [
        "# prompt: Gan-Control\n",
        "\n",
        "!pip install torch torchvision\n",
        "!git clone https://github.com/eriklindernoren/PyTorch-GAN.git\n",
        "%cd PyTorch-GAN\n",
        "!python main.py --config dcgan --dataset mnist\n"
      ]
    },
    {
      "cell_type": "code",
      "execution_count": null,
      "metadata": {
        "id": "uTgwG9qnoA8-"
      },
      "outputs": [],
      "source": [
        "# prompt: EVAGAN\n",
        "\n",
        "!pip install torch torchvision\n",
        "!git clone https://github.com/eriklindernoren/PyTorch-GAN.git\n",
        "%cd PyTorch-GAN\n",
        "!python main.py --config evagan --dataset mnist\n"
      ]
    },
    {
      "cell_type": "code",
      "execution_count": null,
      "metadata": {
        "id": "M85L7ROjobnD"
      },
      "outputs": [],
      "source": [
        "# prompt: facebook\n",
        "\n",
        "!pip install facebook-sdk\n"
      ]
    },
    {
      "cell_type": "code",
      "execution_count": null,
      "metadata": {
        "id": "DYhFj_ulormq"
      },
      "outputs": [],
      "source": [
        "# prompt: instagram\n",
        "\n",
        "!pip install instaloader\n",
        "!instaloader top-hashtags --count 10\n"
      ]
    },
    {
      "cell_type": "code",
      "execution_count": null,
      "metadata": {
        "id": "no0I9N7do3ul"
      },
      "outputs": [],
      "source": [
        "# prompt: wikipedia\n",
        "\n",
        "!pip install wikipedia\n",
        "import wikipedia\n",
        "print(wikipedia.summary(\"Albert Einstein\"))\n"
      ]
    },
    {
      "cell_type": "code",
      "execution_count": null,
      "metadata": {
        "id": "GVnXZueFpLTh"
      },
      "outputs": [],
      "source": [
        "# prompt: intel-xion\n",
        "\n",
        "!pip install intel-extension-for-pytorch\n"
      ]
    },
    {
      "cell_type": "code",
      "execution_count": null,
      "metadata": {
        "id": "lNfxiKq7suvg"
      },
      "outputs": [],
      "source": [
        "# prompt: realtek-UAD-generic\n",
        "\n",
        "!wget https://github.com/thesofproject/sof-bin/releases/download/v2.3.3/sof-bin-2.3.3.tar.bz2\n",
        "!tar -xjf sof-bin-2.3.3.tar.bz2\n",
        "%cd sof-bin-2.3.3/\n",
        "!sudo make -j$(nproc) defconfig\n",
        "!sudo make -j$(nproc)\n",
        "!sudo make -j$(nproc) install\n",
        "!sudo modprobe snd-sof-pci\n"
      ]
    },
    {
      "cell_type": "code",
      "execution_count": null,
      "metadata": {
        "id": "GxotfoCytgFA"
      },
      "outputs": [],
      "source": [
        "# prompt: OpenVLC\n",
        "\n",
        "!sudo apt-get update\n",
        "!sudo apt-get install vlc\n"
      ]
    },
    {
      "cell_type": "code",
      "execution_count": null,
      "metadata": {
        "id": "FkKjjQXBx8ZW"
      },
      "outputs": [],
      "source": [
        "# prompt: keras\n",
        "\n",
        "!pip install tensorflow\n",
        "!pip install keras\n"
      ]
    },
    {
      "cell_type": "code",
      "execution_count": null,
      "metadata": {
        "id": "r9E1W0YpyaZn"
      },
      "outputs": [],
      "source": [
        "# prompt: Innnovation\n",
        "\n",
        "# Create a circuit with three qubits.\n",
        "q0, q1, q2 = cirq.LineQubit.range(3)\n",
        "circuit = cirq.Circuit(\n",
        "    # Apply a Hadamard gate to the first qubit.\n",
        "    H(q0),\n",
        "\n",
        "    # Apply a Z gate to the second qubit.\n",
        "    Z(q1),\n",
        "\n",
        "    # Apply a CNOT gate with the first qubit as the control and the second qubit as the target.\n",
        "    CZ(q0, q1),\n",
        "\n",
        "    # Apply a T gate to the third qubit.\n",
        "    T(q2),\n",
        "\n",
        "    # Apply a S gate to the third qubit.\n",
        "    S(q2),\n",
        "\n",
        "    # Apply a Y gate to the third qubit.\n",
        "    Y(q2),\n",
        ")\n",
        "\n",
        "# Print the circuit.\n",
        "print(circuit)\n",
        "\n"
      ]
    },
    {
      "cell_type": "code",
      "execution_count": null,
      "metadata": {
        "id": "in506rRB04wB"
      },
      "outputs": [],
      "source": [
        "# prompt: fpbase\n",
        "\n",
        "!pip install fpbase\n"
      ]
    },
    {
      "cell_type": "code",
      "execution_count": null,
      "metadata": {
        "id": "vCkYiAkR1Y4Y"
      },
      "outputs": [],
      "source": [
        "# prompt: Opencv\n",
        "\n",
        "!pip install opencv-python\n"
      ]
    },
    {
      "cell_type": "code",
      "execution_count": null,
      "metadata": {
        "id": "x0kfgAnx7g2k"
      },
      "outputs": [],
      "source": [
        "# prompt: monodepth2\n",
        "\n",
        "!git clone https://github.com/facebookresearch/monodepth2.git\n",
        "%cd monodepth2\n",
        "!pip install -r requirements.txt\n",
        "!pip install cython\n",
        "!python setup.py build develop\n"
      ]
    },
    {
      "cell_type": "code",
      "execution_count": null,
      "metadata": {
        "id": "KTUfgfVZ9o5-"
      },
      "outputs": [],
      "source": [
        "# prompt: onedrivesdk\n",
        "\n",
        "!pip install onedrivesdk\n"
      ]
    },
    {
      "cell_type": "code",
      "execution_count": null,
      "metadata": {
        "id": "jyZn0lnIUhCT"
      },
      "outputs": [],
      "source": [
        "# prompt: DMLLTDetectorPulseDiscriminator\n",
        "\n",
        "class DMLLTDetectorPulseDiscriminator(cirq.Gate):\n",
        "    \"\"\"Discriminator for the DMLLT detector pulse.\"\"\"\n",
        "\n",
        "    def __init__(self):\n",
        "        super().__init__(num_qubits=1)\n",
        "\n",
        "    def _num_qubits_(self):\n",
        "        return 1\n",
        "\n",
        "    def _circuit_diagram_info_(self, args):\n",
        "        return cirq.CircuitDiagramInfo(\n",
        "            wire_symbols=('D',),\n",
        "            exponent=1.0,\n",
        "        )\n",
        "\n",
        "    def __eq__(self, other):\n",
        "        if not isinstance(other, type(self)):\n",
        "            return NotImplemented\n",
        "        return True\n",
        "\n",
        "    def __ne__(self, other):\n",
        "        return not self == other\n",
        "\n",
        "    def __repr__(self):\n",
        "        return 'cirq.DMLLTDetectorPulseDiscriminator()'\n",
        "\n",
        "    def _json_dict_(self):\n",
        "        return cirq.protocols.obj_to_dict_helper(self, [])\n"
      ]
    },
    {
      "cell_type": "code",
      "execution_count": null,
      "metadata": {
        "id": "K_kSF7P-WAnN"
      },
      "outputs": [],
      "source": [
        "# prompt: visionai\n",
        "\n",
        "!pip install visionai\n"
      ]
    },
    {
      "cell_type": "code",
      "execution_count": null,
      "metadata": {
        "id": "mjfnfReT-hBU"
      },
      "outputs": [],
      "source": [
        "# prompt: pytorch-GAN\n",
        "\n",
        "!pip install torch torchvision\n",
        "!git clone https://github.com/eriklindernoren/PyTorch-GAN.git\n",
        "%cd PyTorch-GAN\n",
        "!python main.py --config dcgan --dataset mnist\n"
      ]
    },
    {
      "cell_type": "code",
      "execution_count": null,
      "metadata": {
        "id": "kJeeIAcnCON_"
      },
      "outputs": [],
      "source": [
        "# prompt: Mtvlpcap\n",
        "\n",
        "!sudo apt-get install mtvlpcap\n"
      ]
    },
    {
      "cell_type": "code",
      "execution_count": null,
      "metadata": {
        "id": "0sb5x9N-FdtP"
      },
      "outputs": [],
      "source": [
        "# prompt: Deep laerning\n",
        "\n",
        "!pip install tensorflow\n",
        "\n"
      ]
    },
    {
      "cell_type": "markdown",
      "metadata": {
        "id": "CKuRApDeAwCp"
      },
      "source": [
        "This appended a new moment to the qubit, which you can continue to do:"
      ]
    },
    {
      "cell_type": "code",
      "execution_count": null,
      "metadata": {
        "id": "HO8WYyU9AwCq"
      },
      "outputs": [],
      "source": [
        "circuit.append([cirq.H(q0), cirq.CZ(q1, q2)])\n",
        "\n",
        "print(circuit)"
      ]
    },
    {
      "cell_type": "markdown",
      "metadata": {
        "id": "8HNpFd0UAwCs"
      },
      "source": [
        "These two examples appended full moments. What happens when you append all of these at once?"
      ]
    },
    {
      "cell_type": "code",
      "execution_count": null,
      "metadata": {
        "id": "Q3qzMlQmAwCt"
      },
      "outputs": [],
      "source": [
        "circuit = cirq.Circuit()\n",
        "circuit.append([cirq.CZ(q0, q1), cirq.H(q2), cirq.H(q0), cirq.CZ(q1, q2)])\n",
        "\n",
        "print(circuit)"
      ]
    },
    {
      "cell_type": "markdown",
      "metadata": {
        "id": "OQX8FTMyAwCw"
      },
      "source": [
        "This has again created two `Moment` objects. How did `Circuit` know how to do this? The `Circuit.append` method (and its cousin, `Circuit.insert`) both take an argument called `strategy` of type `cirq.InsertStrategy`. By default, `InsertStrategy` is `InsertStrategy.EARLIEST`."
      ]
    },
    {
      "cell_type": "markdown",
      "metadata": {
        "id": "2t7qgbPkAwCx"
      },
      "source": [
        "### InsertStrategies\n",
        "\n",
        "`cirq.InsertStrategy` defines how `Operations` are placed in a `Circuit` when requested to be inserted at a given location. Here, a location is identified by the index of the `Moment` (in the `Circuit`) where the insertion is requested to be placed at (in the case of `Circuit.append`, this means inserting at the `Moment`, at an index one greater than the maximum moment index in the `Circuit`).\n",
        "\n",
        "There are four such strategies: `InsertStrategy.EARLIEST`, `InsertStrategy.NEW`, `InsertStrategy.INLINE` and `InsertStrategy.NEW_THEN_INLINE`.\n",
        "\n",
        "`InsertStrategy.EARLIEST`, which is the default, is defined as:\n",
        "\n",
        "*Scans backward from the insert location until a moment with operations touching qubits affected by the operation to insert is found. The operation is added to the moment just after that location.*\n",
        "\n",
        "For example, if you first create an `Operation` in a single moment, and then use `InsertStrategy.EARLIEST`, the `Operation` can slide back to this first `Moment` if there is space:"
      ]
    },
    {
      "cell_type": "code",
      "execution_count": null,
      "metadata": {
        "id": "Hd5IGmQrAwCx"
      },
      "outputs": [],
      "source": [
        "from cirq.circuits import InsertStrategy\n",
        "\n",
        "circuit = cirq.Circuit()\n",
        "circuit.append([cirq.CZ(q0, q1)])\n",
        "circuit.append([cirq.H(q0), cirq.H(q2)], strategy=InsertStrategy.EARLIEST)\n",
        "\n",
        "print(circuit)"
      ]
    },
    {
      "cell_type": "markdown",
      "metadata": {
        "id": "BGnlt-kPAwCz"
      },
      "source": [
        "After creating the first moment with a `CZ` gate, the second append uses the `InsertStrategy.EARLIEST` strategy. The `H` on `q0` cannot slide back, while the `H` on `q2` can and so ends up in the first `Moment`.\n",
        "\n",
        "Contrast this with `InsertStrategy.NEW` that is defined as:\n",
        "\n",
        "*Every operation that is inserted is created in a new moment.*"
      ]
    },
    {
      "cell_type": "code",
      "execution_count": null,
      "metadata": {
        "id": "Yupv8gQOAwC0"
      },
      "outputs": [],
      "source": [
        "circuit = cirq.Circuit()\n",
        "circuit.append([cirq.H(q0), cirq.H(q1), cirq.H(q2)], strategy=InsertStrategy.NEW)\n",
        "\n",
        "print(circuit)"
      ]
    },
    {
      "cell_type": "markdown",
      "metadata": {
        "id": "F7ziPs17AwC2"
      },
      "source": [
        "Here every operator processed by the append ends up in a new moment. `InsertStrategy.NEW` is most useful when you are inserting a single operation and do not want it to interfere with other `Moments`."
      ]
    },
    {
      "cell_type": "markdown",
      "metadata": {
        "id": "Ceb0nBxeAwC3"
      },
      "source": [
        "Another strategy is `InsertStrategy.INLINE`:"
      ]
    },
    {
      "cell_type": "markdown",
      "metadata": {
        "id": "zsbTh2QhAwC4"
      },
      "source": [
        "*Attempts to add the operation to insert into the moment just before the desired insert location. But, if there’s already an existing operation affecting any of the qubits touched by the operation to insert, a new moment is created instead.*"
      ]
    },
    {
      "cell_type": "code",
      "execution_count": null,
      "metadata": {
        "id": "J3LTjH9-AwC5"
      },
      "outputs": [],
      "source": [
        "circuit = cirq.Circuit()\n",
        "circuit.append([cirq.CZ(q1, q2)])\n",
        "circuit.append([cirq.CZ(q1, q2)])\n",
        "circuit.append([cirq.H(q0), cirq.H(q1), cirq.H(q2)], strategy=InsertStrategy.INLINE)\n",
        "\n",
        "print(circuit)"
      ]
    },
    {
      "cell_type": "markdown",
      "metadata": {
        "id": "7iDg6j4fAwC7"
      },
      "source": [
        "After two initial `CZ` between the second and third qubit, the example inserts three `H` operations. The `H` on the first qubit is inserted into the previous `Moment`, but the `H` on the second and third qubits cannot be inserted into the previous `Moment`, so a new `Moment` is created.\n",
        "\n",
        "Finally, `InsertStrategy.NEW_THEN_INLINE` is a useful strategy to start a new moment and then continue\n",
        "inserting from that point onwards."
      ]
    },
    {
      "cell_type": "markdown",
      "metadata": {
        "id": "O-LfqxSWAwC8"
      },
      "source": [
        "*Creates a new moment at the desired insert location for the first operation, but then switches to inserting operations according to `InsertStrategy.INLINE`.*"
      ]
    },
    {
      "cell_type": "code",
      "execution_count": null,
      "metadata": {
        "id": "LmT3IKEEAwC9"
      },
      "outputs": [],
      "source": [
        "circuit = cirq.Circuit()\n",
        "circuit.append([cirq.H(q0)])\n",
        "circuit.append([cirq.CZ(q1, q2), cirq.H(q0)], strategy=InsertStrategy.NEW_THEN_INLINE)\n",
        "\n",
        "print(circuit)"
      ]
    },
    {
      "cell_type": "markdown",
      "metadata": {
        "id": "m2SoYFsFAwC_"
      },
      "source": [
        "The first append creates a single moment with an `H` on the first qubit. Then, the append with the `InsertStrategy.NEW_THEN_INLINE` strategy begins by inserting the `CZ` in a new `Moment` (the `InsertStrategy.NEW` in `InsertStrategy.NEW_THEN_INLINE`). Subsequent appending is done `InsertStrategy.INLINE`, so the next `H` on the first qubit is appending in the just created `Moment`.\n",
        "\n",
        "Here is a picture showing simple examples of appending 1 and then 2 using the different strategies"
      ]
    },
    {
      "cell_type": "markdown",
      "metadata": {
        "id": "6633b1d21176"
      },
      "source": [
        "![Insert Strategies](https://github.com/quantumlib/Cirq/blob/main/docs/images/InsertStrategy.png?raw=1)"
      ]
    },
    {
      "cell_type": "markdown",
      "metadata": {
        "id": "Ij28qJdtAwC_"
      },
      "source": [
        "### Patterns for arguments to append and insert\n",
        "\n",
        "In the above examples, you used a series of `Circuit.append` calls with a list of different `Operations` added to the circuit. However, the argument where you have supplied a list can also take more than just list values. For instance:"
      ]
    },
    {
      "cell_type": "code",
      "execution_count": null,
      "metadata": {
        "id": "Q0BtEy4BbL-X"
      },
      "outputs": [],
      "source": [
        "# prompt: language\n",
        "\n",
        "print(\"Hello, World!\")\n"
      ]
    },
    {
      "cell_type": "markdown",
      "metadata": {
        "id": "gO60_S94R1ys"
      },
      "source": []
    },
    {
      "cell_type": "code",
      "execution_count": null,
      "metadata": {
        "id": "5ioQ_hgO75N-"
      },
      "outputs": [],
      "source": [
        "# prompt: Deep Larning\n",
        "\n",
        "!pip install tensorflow\n",
        "\n"
      ]
    },
    {
      "cell_type": "code",
      "execution_count": null,
      "metadata": {
        "id": "IhUPrtQ8WH1U"
      },
      "outputs": [],
      "source": [
        "# prompt: vision ai\n",
        "\n",
        "!pip install visionai\n"
      ]
    },
    {
      "cell_type": "code",
      "execution_count": null,
      "metadata": {
        "id": "1YgFBLYN7_IV"
      },
      "outputs": [],
      "source": [
        "# prompt: Pytorch-GAN\n",
        "\n",
        "!pip install torch torchvision\n",
        "!git clone https://github.com/eriklindernoren/PyTorch-GAN.git\n",
        "%cd PyTorch-GAN\n",
        "!python main.py --config dcgan --dataset mnist\n"
      ]
    },
    {
      "cell_type": "code",
      "execution_count": null,
      "metadata": {
        "id": "rTWtRvU8uc-2"
      },
      "outputs": [],
      "source": [
        "# prompt: Communication\n",
        "\n",
        "print(\"Hello, World!\")\n"
      ]
    },
    {
      "cell_type": "code",
      "source": [],
      "metadata": {
        "id": "u0x85BaG7Sd5"
      },
      "execution_count": null,
      "outputs": []
    },
    {
      "cell_type": "code",
      "execution_count": null,
      "metadata": {
        "id": "buh063VNWTUF"
      },
      "outputs": [],
      "source": [
        "# prompt: vision ai\n",
        "\n",
        "!pip install visionai\n"
      ]
    },
    {
      "cell_type": "code",
      "execution_count": null,
      "metadata": {
        "id": "j6o0bYg5pHnX"
      },
      "outputs": [],
      "source": [
        "# prompt: Pytorch-GAN\n",
        "\n",
        "!pip install torch torchvision\n",
        "!git clone https://github.com/eriklindernoren/PyTorch-GAN.git\n",
        "%cd PyTorch-GAN\n",
        "!python main.py --config dcgan --dataset mnist\n"
      ]
    },
    {
      "cell_type": "code",
      "execution_count": null,
      "metadata": {
        "id": "AnNb24Cq2dhQ"
      },
      "outputs": [],
      "source": [
        "# prompt: Deep Larning\n",
        "\n",
        "!pip install tensorflow\n"
      ]
    },
    {
      "cell_type": "code",
      "execution_count": null,
      "metadata": {
        "id": "cT3ezIkewMP8"
      },
      "outputs": [],
      "source": [
        "# prompt: Humanity\n",
        "\n",
        "print(\"Humanity\")\n",
        "\n"
      ]
    },
    {
      "cell_type": "code",
      "execution_count": null,
      "metadata": {
        "id": "eQKQruri5tnk"
      },
      "outputs": [],
      "source": [
        "# prompt: fairseq\n",
        "\n",
        "!pip install fairseq\n"
      ]
    },
    {
      "cell_type": "code",
      "execution_count": null,
      "metadata": {
        "id": "kmt8hAfZAwDA"
      },
      "outputs": [],
      "source": [
        "def my_layer():\n",
        "    yield cirq.CZ(q0, q1)\n",
        "    yield [cirq.H(q) for q in (q0, q1, q2)]\n",
        "    yield [cirq.CZ(q1, q2)]\n",
        "    yield [cirq.H(q0), [cirq.CZ(q1, q2)]]\n",
        "\n",
        "\n",
        "circuit = cirq.Circuit()\n",
        "circuit.append(my_layer())\n",
        "\n",
        "for x in my_layer():\n",
        "    print(x)"
      ]
    },
    {
      "cell_type": "code",
      "execution_count": null,
      "metadata": {
        "id": "8nNZuqCyxb4k"
      },
      "outputs": [],
      "source": [
        "# prompt: Consequence\n",
        "\n",
        "print(\"The consequence is that the circuit will be modified.\")\n"
      ]
    },
    {
      "cell_type": "code",
      "execution_count": null,
      "metadata": {
        "id": "uARizfY-F4Qe"
      },
      "outputs": [],
      "source": [
        "# prompt: The year of 2024\n",
        "\n",
        "print(2024)\n"
      ]
    },
    {
      "cell_type": "code",
      "execution_count": null,
      "metadata": {
        "id": "IiEo38UgF-H4"
      },
      "outputs": [],
      "source": [
        "# prompt: deep laerning\n",
        "\n",
        "!pip install tensorflow\n"
      ]
    },
    {
      "cell_type": "code",
      "execution_count": null,
      "metadata": {
        "id": "LXs7ffVWAwDC"
      },
      "outputs": [],
      "source": [
        "print(circuit)"
      ]
    },
    {
      "cell_type": "markdown",
      "metadata": {
        "id": "DpGimiozAwDE"
      },
      "source": [
        "Recall that Python functions with a `yield` are generators. Generators are functions that act as iterators. The above example iterates over `my_layer()` with a `for` loop. In this case, each of the `yield`s produces:\n",
        "\n",
        "* `Operations`,\n",
        "* lists of `Operations`,\n",
        "* or lists of `Operations` mixed with lists of `Operations`.\n",
        "\n",
        "\n",
        "When you pass an iterator to the `append` method, `Circuit` is able to flatten all of these and pass them as one giant list to `Circuit.append` (this also works for `Circuit.insert`).\n",
        "\n",
        "The above idea uses the concept of `cirq.OP_TREE`. An `OP_TREE` is not a class, but a *contract*. The basic idea is that, if the input can be iteratively flattened into a list of operations, then the input is an `OP_TREE`.\n",
        "\n",
        "A very nice pattern emerges from this structure: define generators for sub-circuits, which can vary by size or `Operation` parameters.\n",
        "\n",
        "Another useful method to construct a `Circuit` fully formed from an `OP_TREE` is to pass the `OP_TREE` into `Circuit` when initializing it:"
      ]
    },
    {
      "cell_type": "code",
      "execution_count": null,
      "metadata": {
        "id": "dC6iBIqrAwDF"
      },
      "outputs": [],
      "source": [
        "circuit = cirq.Circuit(cirq.H(q0), cirq.H(q1))\n",
        "print(circuit)"
      ]
    },
    {
      "cell_type": "markdown",
      "metadata": {
        "id": "dE0kxo6tAwDI"
      },
      "source": [
        "### Slicing and iterating over circuits\n",
        "\n",
        "Circuits can be iterated over and sliced. When they are iterated, each item in the iteration is a moment:\n"
      ]
    },
    {
      "cell_type": "code",
      "execution_count": null,
      "metadata": {
        "id": "z2csEbbyAwDI"
      },
      "outputs": [],
      "source": [
        "circuit = cirq.Circuit(cirq.H(q0), cirq.CZ(q0, q1))\n",
        "for moment in circuit:\n",
        "    print(moment)"
      ]
    },
    {
      "cell_type": "code",
      "execution_count": null,
      "metadata": {
        "id": "O7OULe6OdQCV"
      },
      "outputs": [],
      "source": [
        "# prompt: action\n",
        "\n",
        "print(\"Hello, World!\")\n",
        "\n"
      ]
    },
    {
      "cell_type": "code",
      "execution_count": null,
      "metadata": {
        "id": "29VlSMq_I7aX"
      },
      "outputs": [],
      "source": [
        "# prompt: No drug No war\n",
        "\n",
        "print(\"No drug No war\")\n",
        "\n"
      ]
    },
    {
      "cell_type": "markdown",
      "metadata": {
        "id": "8gT1t2drAwDL"
      },
      "source": [
        "Slicing a `Circuit`, on the other hand, produces a new `Circuit` with only the moments corresponding to the slice:"
      ]
    },
    {
      "cell_type": "code",
      "execution_count": null,
      "metadata": {
        "id": "0X6qWbCFWctr"
      },
      "outputs": [],
      "source": [
        "# prompt: vision ai\n",
        "\n",
        "!pip install visionai\n"
      ]
    },
    {
      "cell_type": "code",
      "execution_count": null,
      "metadata": {
        "id": "RfszhVjgJI3E"
      },
      "outputs": [],
      "source": [
        "# prompt: Pytorch-GAN\n",
        "\n",
        "!pip install torch torchvision\n",
        "!git clone https://github.com/eriklindernoren/PyTorch-GAN.git\n",
        "%cd PyTorch-GAN\n",
        "!python main.py --config dcgan --dataset mnist\n"
      ]
    },
    {
      "cell_type": "code",
      "execution_count": null,
      "metadata": {
        "id": "kZiXuMBwJanx"
      },
      "outputs": [],
      "source": [
        "# prompt: Deep Larning\n",
        "\n",
        "!pip install tensorflow\n"
      ]
    },
    {
      "cell_type": "code",
      "execution_count": null,
      "metadata": {
        "id": "hxczWjkMAwDL"
      },
      "outputs": [],
      "source": [
        "circuit = cirq.Circuit(cirq.H(q0), cirq.CZ(q0, q1), cirq.H(q1), cirq.CZ(q0, q1))\n",
        "print(circuit[1:3])"
      ]
    },
    {
      "cell_type": "markdown",
      "metadata": {
        "id": "cDAVDT7bAwDO"
      },
      "source": [
        "Two especially useful applications of this are dropping the last moment (which are often just measurements): `circuit[:-1]`, and reversing a circuit: `circuit[::-1]`.\n"
      ]
    },
    {
      "cell_type": "markdown",
      "metadata": {
        "id": "e31b4ff57134"
      },
      "source": [
        "### Nesting circuits with CircuitOperation\n",
        "\n",
        "Circuits can be nested inside one another with `cirq.CircuitOperation`. This is useful for concisely defining large, repetitive circuits, as the repeated section can be defined once and then be reused elsewhere. Circuits that need to be serialized especially benefit from this, as loops and functions used in the Python construction of a circuit are otherwise not captured in serialization.\n",
        "\n",
        "The subcircuit must first be \"frozen\" to indicate that no further changes will be made to it."
      ]
    },
    {
      "cell_type": "code",
      "execution_count": null,
      "metadata": {
        "id": "b3772732f57b"
      },
      "outputs": [],
      "source": [
        "subcircuit = cirq.Circuit(cirq.H(q1), cirq.CZ(q0, q1), cirq.CZ(q2, q1), cirq.H(q1))\n",
        "subcircuit_op = cirq.CircuitOperation(subcircuit.freeze())\n",
        "circuit = cirq.Circuit(cirq.H(q0), cirq.H(q2), subcircuit_op)\n",
        "print(circuit)"
      ]
    },
    {
      "cell_type": "markdown",
      "metadata": {
        "id": "3557398496c2"
      },
      "source": [
        "Frozen circuits can also be constructed directly, for convenience."
      ]
    },
    {
      "cell_type": "code",
      "execution_count": null,
      "metadata": {
        "id": "AuX9BCHifuzW"
      },
      "outputs": [],
      "source": [
        "# prompt: diversity\n",
        "\n",
        "!pip install diversity\n"
      ]
    },
    {
      "cell_type": "code",
      "execution_count": null,
      "metadata": {
        "id": "WRItUlJtqJlD"
      },
      "outputs": [],
      "source": [
        "# prompt: deep learning\n",
        "\n",
        "!pip install tensorflow\n"
      ]
    },
    {
      "cell_type": "code",
      "execution_count": null,
      "metadata": {
        "id": "ZktD-Tl4zTLt"
      },
      "outputs": [],
      "source": [
        "# prompt: Youger generations\n",
        "\n",
        "print(\"Hello, World!\")\n",
        "\n",
        "\n",
        "print(\"The younger generations are more open to new ideas.\")\n",
        "\n",
        "\n",
        "\n",
        "print(\"The younger generations are more likely to be accepting of different cultures.\")\n",
        "\n",
        "\n",
        "\n",
        "print(\"The younger generations are more likely to be environmentally conscious.\")\n",
        "\n",
        "\n",
        "\n",
        "print(\"The younger generations are more likely to be politically active.\")\n",
        "\n",
        "\n",
        "\n",
        "print(\"The younger generations are more likely to be supportive of social justice.\")\n",
        "\n",
        "\n",
        "\n",
        "print(\"The younger generations are more likely to be optimistic about the future.\")\n",
        "\n",
        "\n",
        "\n",
        "print(\"The younger generations are more likely to be creative and innovative.\")\n",
        "\n",
        "\n",
        "\n",
        "print(\"The younger generations are more likely to be entrepreneurial.\")\n",
        "\n",
        "\n",
        "\n",
        "print(\"The younger generations are more likely to be global citizens.\")\n",
        "\n",
        "\n",
        "\n",
        "print(\"The younger generations are more likely to be connected to the world around them.\")\n",
        "\n"
      ]
    },
    {
      "cell_type": "code",
      "execution_count": null,
      "metadata": {
        "id": "3d80776e09fe"
      },
      "outputs": [],
      "source": [
        "circuit = cirq.Circuit(\n",
        "    cirq.CircuitOperation(\n",
        "        cirq.FrozenCircuit(cirq.H(q1), cirq.CZ(q0, q1), cirq.CZ(q2, q1), cirq.H(q1))\n",
        "    )\n",
        ")\n",
        "print(circuit)"
      ]
    },
    {
      "cell_type": "code",
      "execution_count": null,
      "metadata": {
        "id": "kjEBDpJiqVT5"
      },
      "outputs": [],
      "source": [
        "# prompt: deep learning\n",
        "\n",
        "!pip install tensorflow\n",
        "\n",
        "\n",
        "!pip install torch torchvision\n",
        "!git clone https://github.com/eriklindernoren/PyTorch-GAN.git\n",
        "%cd PyTorch-GAN\n",
        "!python main.py --config dcgan --dataset mnist\n",
        "\n",
        "\n",
        "!pip install tensorflow\n",
        "\n",
        "\n",
        "!pip install torch torchvision\n",
        "!git clone https://github.com/eriklindernoren/PyTorch-GAN.git\n",
        "%cd PyTorch-GAN\n",
        "!python main.py --config dcgan --dataset mnist\n",
        "\n",
        "\n",
        "!pip install tensorflow\n",
        "\n",
        "\n",
        "!pip install torch torchvision\n",
        "!git clone https://github.com/eriklindernoren/PyTorch-GAN.git\n",
        "%cd PyTorch-GAN\n",
        "!python main.py --config dcgan --dataset mnist\n",
        "\n",
        "\n",
        "!pip install tensorflow\n",
        "\n",
        "\n",
        "!pip install torch torchvision\n",
        "!git clone https://github.com/eriklindernoren/PyTorch-GAN.git\n",
        "%cd PyTorch-GAN\n",
        "!python main.py --config dcgan --dataset mnist\n",
        "\n",
        "\n",
        "!pip install tensorflow\n",
        "\n",
        "\n",
        "!pip install torch torchvision\n",
        "!git clone https://github.com/eriklindernoren/PyTorch-GAN.git\n",
        "%cd PyTorch-GAN\n",
        "!python main.py --config dcgan --dataset mnist\n",
        "\n",
        "\n",
        "!pip install tensorflow\n",
        "\n",
        "\n",
        "!pip install torch torchvision\n",
        "!git clone https://github.com/eriklindernoren/PyTorch-GAN.git\n",
        "%cd PyTorch-GAN\n",
        "!python main.py --config dcgan --dataset mnist\n",
        "\n",
        "\n",
        "!pip install tensorflow\n",
        "\n",
        "\n",
        "!pip install torch torchvision\n",
        "!git clone https://github.com/eriklindernoren/PyTorch-GAN.git\n",
        "%cd PyTorch-GAN\n",
        "!python main.py --config dcgan --dataset mnist\n",
        "\n",
        "\n",
        "!pip install tensorflow\n",
        "\n",
        "\n",
        "!pip install torch torchvision\n",
        "!git clone https://github.com/eriklindernoren/PyTorch-GAN.git\n",
        "%cd PyTorch-GAN\n",
        "!python main.py --config dcgan --dataset mnist\n",
        "\n",
        "\n",
        "!pip install tensorflow\n",
        "\n",
        "\n",
        "!pip install torch torchvision\n",
        "!git clone https://github.com/eriklindernoren/PyTorch-GAN.git\n",
        "%cd PyTorch-GAN\n",
        "!python main.py --config dcgan --dataset mnist\n",
        "\n",
        "\n",
        "!pip install tensorflow\n",
        "\n",
        "\n",
        "!pip install torch torchvision\n",
        "!git clone https://github.com/eriklindernoren/PyTorch-GAN.git\n",
        "%cd PyTorch-GAN\n",
        "!python main.py --config dcgan --dataset mnist\n",
        "\n",
        "\n",
        "!pip install tensorflow\n",
        "\n",
        "\n",
        "!pip install torch torchvision\n",
        "!git clone https://github.com/eriklindernoren/PyTorch-GAN.git\n",
        "%cd PyTorch-GAN\n",
        "!python main.py --config dcgan --dataset mnist\n",
        "\n",
        "\n",
        "!pip install tensorflow\n",
        "\n",
        "\n",
        "!pip install torch torchvision\n",
        "!git clone https://github.com/eriklindernoren/PyTorch-GAN.git\n",
        "%cd PyTorch-GAN\n",
        "!python main.py --config dcgan --dataset mnist\n",
        "\n",
        "\n",
        "!pip install tensorflow\n",
        "\n",
        "\n",
        "!pip install torch torchvision\n",
        "!git clone https://github.com/eriklindernoren/PyTorch-GAN.git\n",
        "%cd PyTorch-GAN\n",
        "!python main.py --config dcgan --dataset mnist\n",
        "\n",
        "\n",
        "!pip install tensorflow\n",
        "\n",
        "\n",
        "!pip install torch torchvision\n",
        "!git clone https://github.com/eriklindernoren/PyTorch-GAN.git\n",
        "%cd PyTorch-GAN\n",
        "!python main.py --config dcgan --dataset mnist\n",
        "\n",
        "\n",
        "!pip install tensorflow\n",
        "\n",
        "\n",
        "!pip install torch torchvision\n",
        "!git clone https://github.com/eriklindernoren/PyTorch-GAN.git\n",
        "%cd PyTorch-GAN\n",
        "!python main.py --config dcgan --dataset mnist\n",
        "\n",
        "\n",
        "!pip install tensorflow\n",
        "\n",
        "\n",
        "!pip install torch torchvision\n",
        "!git clone https://github.com/eriklindernoren/PyTorch-GAN.git\n",
        "%cd PyTorch-GAN\n",
        "!python main.py --config dcgan --dataset mnist\n",
        "\n",
        "\n",
        "!pip install tensorflow\n",
        "\n",
        "\n",
        "!pip install torch torchvision\n",
        "!git clone https://github.com/eriklindernoren/PyTorch-GAN.git\n",
        "%cd PyTorch-GAN\n",
        "!python main.py --config dcgan --dataset mnist\n",
        "\n",
        "\n",
        "!pip install tensorflow\n",
        "\n",
        "\n",
        "!pip install torch torchvision\n",
        "!git clone https://github.com/eriklindernoren/PyTorch-GAN.git\n",
        "%cd PyTorch-GAN\n",
        "!python main.py --config dcgan --dataset mnist\n",
        "\n",
        "\n",
        "!pip install tensorflow\n",
        "\n",
        "\n",
        "!pip install torch torchvision\n",
        "!git clone https://github.com/eriklindernoren/PyTorch-GAN.git\n",
        "%cd PyTorch-GAN\n",
        "!python main.py --config dcgan --dataset mnist\n",
        "\n",
        "\n",
        "!pip install tensorflow\n",
        "\n",
        "\n",
        "!pip install torch torchvision\n",
        "!git clone https://github.com/eriklindernoren/PyTorch-GAN.git\n",
        "%cd PyTorch-GAN\n",
        "!python main.py --config dcgan --dataset mnist\n",
        "\n",
        "\n",
        "!pip install tensorflow\n",
        "\n",
        "\n",
        "!pip install torch torchvision\n",
        "!git clone https://github.com/eriklindernoren/PyTorch-GAN.git\n",
        "%cd PyTorch-GAN\n",
        "!python main.py --config dcgan --dataset mnist\n",
        "\n",
        "\n",
        "!pip install tensorflow\n",
        "\n",
        "\n",
        "!pip install torch torchvision\n",
        "!git clone https://github.com/eriklindernoren/PyTorch-GAN.git\n",
        "%cd PyTorch-GAN\n",
        "!python main.py --config dcgan --dataset mnist\n",
        "\n",
        "\n",
        "!pip install tensorflow\n",
        "\n",
        "\n",
        "!pip install torch torchvision\n",
        "!git clone https://github.com/eriklindernoren/PyTorch-GAN.git\n",
        "%cd PyTorch-GAN\n",
        "!python main.py --config dcgan --dataset mnist\n",
        "\n",
        "\n",
        "!pip install tensorflow\n",
        "\n",
        "\n",
        "!pip install torch torchvision\n",
        "!git clone https://github.com/eriklindernoren/PyTorch-GAN.git\n",
        "%cd PyTorch-GAN\n",
        "!python main.py --config dcgan --dataset mnist\n",
        "\n",
        "\n",
        "!pip install tensorflow\n",
        "\n",
        "\n",
        "!pip install torch torchvision\n",
        "!git clone https://github.com/eriklindernoren/PyTorch-GAN.git\n",
        "%cd PyTorch-GAN\n",
        "!python main.py --config dcgan --dataset mnist\n",
        "\n",
        "\n",
        "!pip install tensorflow\n",
        "\n",
        "\n",
        "!pip install torch torchvision\n",
        "!git clone https://github.com/eriklindernoren/PyTorch-GAN.git\n",
        "%cd PyTorch-GAN\n",
        "!python main.py --config dcgan --dataset mnist\n",
        "\n",
        "\n",
        "!pip install tensorflow\n",
        "\n",
        "\n",
        "!pip install torch torchvision\n",
        "!git clone https://github.com/eriklindernoren/PyTorch-GAN.git\n",
        "%cd PyTorch-GAN\n",
        "!python main.py --config dcgan --dataset mnist\n",
        "\n",
        "\n",
        "!pip install tensorflow\n",
        "\n",
        "\n",
        "!pip install torch torchvision\n",
        "!git clone https://github.com/eriklindernoren/PyTorch-GAN.git\n",
        "%cd PyTorch-GAN\n",
        "!python main.py --config dcgan --dataset mnist\n",
        "\n",
        "\n",
        "!pip install tensorflow\n",
        "\n",
        "\n",
        "!pip install torch torchvision\n",
        "!git clone https://github.com/eriklindernoren/PyTorch-GAN.git\n",
        "%cd PyTorch-GAN\n",
        "!python main.py --config dcgan --dataset mnist\n",
        "\n",
        "\n",
        "!pip install tensorflow\n",
        "\n",
        "\n",
        "!pip install torch torchvision\n",
        "!git clone https://github.com/eriklindernoren/PyTorch-GAN.git\n",
        "%cd PyTorch-GAN\n",
        "!python main.py --config dcgan --dataset mnist\n",
        "\n",
        "\n",
        "!pip install tensorflow\n",
        "\n",
        "\n",
        "!pip install torch torchvision\n",
        "!git clone https://github.com/eriklindernoren/PyTorch-GAN.git\n",
        "%cd PyTorch-GAN\n",
        "!python main.py --config dcgan --dataset mnist\n",
        "\n",
        "\n",
        "!pip install tensorflow\n",
        "\n",
        "\n",
        "!pip install torch torchvision\n",
        "!git clone https://github.com/eriklindernoren/PyTorch-GAN.git\n",
        "%cd PyTorch-GAN\n",
        "!python main.py --config dcgan --dataset mnist\n",
        "\n",
        "\n",
        "!pip install tensorflow\n",
        "\n",
        "\n",
        "!pip install torch torchvision\n",
        "!git clone https://github.com/eriklindernoren/PyTorch-GAN.git\n",
        "%cd PyTorch-GAN\n",
        "!python main.py --config dcgan --dataset mnist\n",
        "\n",
        "\n",
        "!pip install tensorflow\n",
        "\n",
        "\n",
        "!pip install torch torchvision\n",
        "!git clone https://github.com/eriklindernoren/PyTorch-GAN.git\n",
        "%cd PyTorch-GAN\n",
        "!python main.py --config dcgan --dataset mnist\n",
        "\n",
        "\n",
        "!pip install tensorflow\n",
        "\n",
        "\n",
        "!pip install torch torchvision\n",
        "!git clone https://github.com/eriklindernoren/PyTorch-GAN.git\n",
        "%cd PyTorch-GAN\n",
        "!python main.py --config dcgan --dataset mnist\n",
        "\n",
        "\n",
        "!pip install tensorflow\n",
        "\n",
        "\n",
        "!pip install torch torchvision\n",
        "!git clone https://github.com/eriklindernoren/PyTorch-GAN.git\n",
        "%cd PyTorch-GAN\n",
        "!python main.py --config dcgan --dataset mnist\n",
        "\n",
        "\n",
        "!pip install tensorflow\n",
        "\n",
        "\n",
        "!pip install torch torchvision\n",
        "!git clone https://github.com/eriklindernoren/PyTorch-GAN.git\n",
        "%cd PyTorch-GAN\n",
        "!python main.py --config dcgan --dataset mnist\n",
        "\n",
        "\n",
        "!pip install tensorflow\n",
        "\n",
        "\n",
        "!pip install torch torchvision\n",
        "!git clone https://github.com/eriklindernoren/PyTorch-GAN.git\n",
        "%cd PyTorch-GAN\n",
        "!python main.py --config dcgan --dataset mnist\n",
        "\n",
        "\n",
        "!pip install tensorflow\n",
        "\n",
        "\n",
        "!pip install torch torchvision\n",
        "!git clone https://github.com/eriklindernoren/PyTorch-GAN.git\n",
        "%cd"
      ]
    },
    {
      "cell_type": "code",
      "execution_count": null,
      "metadata": {
        "id": "W18Gsl3HJndL"
      },
      "outputs": [],
      "source": [
        "# prompt: Liberty\n",
        "\n",
        "print(\"Liberty\")\n",
        "\n"
      ]
    },
    {
      "cell_type": "code",
      "execution_count": null,
      "metadata": {
        "id": "OhgN-9jwJruk"
      },
      "outputs": [],
      "source": [
        "# prompt: Deep learning\n",
        "\n",
        "!pip install tensorflow\n",
        "\n"
      ]
    },
    {
      "cell_type": "code",
      "execution_count": null,
      "metadata": {
        "id": "HuMmPLo19YS5"
      },
      "outputs": [],
      "source": [
        "# prompt: Artificial Intellegence\n",
        "\n",
        "print(\"Artificial intelligence is the simulation of human intelligence processes by machines, especially computer systems.\")\n",
        "\n",
        "\n",
        "print(\"Artificial intelligence research has been highly successful in developing effective techniques for solving a wide range of problems, from game playing to medical diagnosis.\")\n",
        "\n",
        "\n",
        "print(\"Artificial intelligence is a rapidly growing field, with new applications being developed all the time.\")\n",
        "\n",
        "\n",
        "print(\"Some of the most promising applications of artificial intelligence include self-driving cars, medical diagnosis, and customer service.\")\n",
        "\n",
        "\n",
        "print(\"Artificial intelligence is also being used to develop new technologies, such as quantum computing and blockchain.\")\n",
        "\n",
        "\n",
        "print(\"The future of artificial intelligence is bright, with many new applications and technologies being developed all the time.\")\n",
        "\n",
        "\n",
        "print(\"Artificial intelligence is already having a significant impact on our world, and it is only going to become more important in the years to come.\")\n",
        "\n",
        "\n",
        "print(\"It is important to be aware of the potential benefits and risks of artificial intelligence, and to ensure that it is used in a responsible way.\")\n",
        "\n",
        "\n",
        "print(\"Artificial intelligence is a powerful tool that can be used to improve our lives, but it is important to use it wisely.\")\n",
        "\n",
        "\n",
        "print(\"The future of artificial intelligence is in our hands.\")\n",
        "\n"
      ]
    },
    {
      "cell_type": "code",
      "execution_count": null,
      "metadata": {
        "id": "324ygA_ItGaP"
      },
      "outputs": [],
      "source": [
        "# prompt: Open AI\n",
        "\n",
        "!pip install openai\n"
      ]
    },
    {
      "cell_type": "markdown",
      "metadata": {
        "id": "e2c83225f05a"
      },
      "source": [
        "A `CircuitOperation` is sort of like a function: by default, it will behave like the circuit it contains, but you can also pass arguments to it that alter the qubits it operates on, the number of times it repeats, and other properties. `CircuitOperation`s can also be referenced multiple times within the same \"outer\" circuit for conciseness."
      ]
    },
    {
      "cell_type": "code",
      "execution_count": null,
      "metadata": {
        "id": "_XadtOTt4PbS"
      },
      "outputs": [],
      "source": [
        "# prompt: typing_extensions\n",
        "\n",
        "!pip install typing_extensions\n"
      ]
    },
    {
      "cell_type": "code",
      "execution_count": null,
      "metadata": {
        "id": "cKhOBET24gmO"
      },
      "outputs": [],
      "source": [
        "# prompt: google cloud\n",
        "\n",
        "# Create a new GCS bucket\n",
        "bucket_name = \"my-bucket\"\n",
        "!gsutil mb gs://{bucket_name}\n",
        "\n",
        "# Upload a file to the bucket\n",
        "file_name = \"my-file.txt\"\n",
        "!gsutil cp {file_name} gs://{bucket_name}/{file_name}\n",
        "\n",
        "# Download a file from the bucket\n",
        "!gsutil cp gs://{bucket_name}/{file_name} .\n",
        "\n",
        "# List the files in the bucket\n",
        "!gsutil ls gs://{bucket_name}\n",
        "\n",
        "# Delete a file from the bucket\n",
        "!gsutil rm gs://{bucket_name}/{file_name}\n",
        "\n",
        "# Delete the bucket\n",
        "!gsutil rb gs://{bucket_name}\n"
      ]
    },
    {
      "cell_type": "code",
      "execution_count": null,
      "metadata": {
        "id": "vRxPMZDtDNKq"
      },
      "outputs": [],
      "source": [
        "# prompt: google-cloud-aiplatform\n",
        "\n",
        "!pip install google-cloud-aiplatform\n"
      ]
    },
    {
      "cell_type": "code",
      "execution_count": null,
      "metadata": {
        "id": "K7nX5oY0Dxsa"
      },
      "outputs": [],
      "source": [
        "from google.cloud import aiplatform\n"
      ]
    },
    {
      "cell_type": "code",
      "execution_count": null,
      "metadata": {
        "id": "0VmhPWqXEHmr"
      },
      "outputs": [],
      "source": [
        "# prompt: job_spec =\n",
        "\n",
        "job_spec = {\n",
        "    \"workerPoolSpecs\": [\n",
        "        {\n",
        "            \"machineSpec\": {\n",
        "                \"machineType\": \"n1-standard-4\",\n",
        "                \"acceleratorType\": \"NVIDIA_TESLA_K80\",\n",
        "                \"acceleratorCount\": 1,\n",
        "            },\n",
        "            \"replicaCount\": 1,\n",
        "            \"containerSpec\": {\n",
        "                \"imageUri\": \"gcr.io/cloud-aiplatform/prediction/tf-cpu.1-15:latest\",\n",
        "                \"command\": [],\n",
        "                \"args\": [],\n",
        "            },\n",
        "        }\n",
        "    ]\n",
        "}\n"
      ]
    },
    {
      "cell_type": "code",
      "execution_count": null,
      "metadata": {
        "id": "ygp6cqyS9A0F"
      },
      "outputs": [],
      "source": [
        "# prompt: AfricaNLP-Public-Datasets\n",
        "\n",
        "!git clone https://github.com/AfricaNLP/AfricaNLP-Public-Datasets.git\n",
        "%cd AfricaNLP-Public-Datasets\n"
      ]
    },
    {
      "cell_type": "code",
      "execution_count": null,
      "metadata": {
        "id": "Ihozlk2PFGfr"
      },
      "outputs": [],
      "source": []
    },
    {
      "cell_type": "code",
      "execution_count": null,
      "metadata": {
        "id": "hH9pRv-UEaMk"
      },
      "outputs": [],
      "source": [
        "# prompt: Altamiracave\n",
        "\n",
        "print(\"Altamiracave\")\n",
        "\n"
      ]
    },
    {
      "cell_type": "code",
      "execution_count": null,
      "metadata": {
        "id": "daycCCs7FUrO"
      },
      "outputs": [],
      "source": [
        "# prompt: UNWTO\n",
        "\n",
        "!git clone https://github.com/UNWTO/UNWTO-Tourism-Data.git\n"
      ]
    },
    {
      "cell_type": "code",
      "execution_count": null,
      "metadata": {
        "id": "GcyBNV22FTNH"
      },
      "outputs": [],
      "source": [
        "# prompt: db-sparql.html\n",
        "\n",
        "!wget https://w3id.org/def/dbpedia/data/db-sparql.html\n"
      ]
    },
    {
      "cell_type": "code",
      "execution_count": null,
      "metadata": {
        "id": "r8qs-ctvNuUu"
      },
      "outputs": [],
      "source": [
        "# prompt: Africa-Aviation-Innovation-Summit-2023\n",
        "\n",
        "!git clone https://github.com/Africa-Aviation-Innovation-Summit/Africa-Aviation-Innovation-Summit-2023.git\n"
      ]
    },
    {
      "cell_type": "code",
      "execution_count": null,
      "metadata": {
        "id": "yNwDWwjHWzjV"
      },
      "outputs": [],
      "source": [
        "# prompt: vision ai\n",
        "\n",
        "!pip install visionai\n"
      ]
    },
    {
      "cell_type": "code",
      "execution_count": null,
      "metadata": {
        "id": "vbyGNgPiuA0_"
      },
      "outputs": [],
      "source": [
        "# prompt: Pytorch-GAN\n",
        "\n",
        "!pip install torch torchvision\n",
        "!git clone https://github.com/eriklindernoren/PyTorch-GAN.git\n",
        "%cd PyTorch-GAN\n",
        "!python main.py --config dcgan --dataset mnist\n"
      ]
    },
    {
      "cell_type": "code",
      "execution_count": null,
      "metadata": {
        "id": "qIMakt5HuJ_y"
      },
      "outputs": [],
      "source": [
        "# prompt: Deep Learning\n",
        "\n",
        "!pip install tensorflow\n"
      ]
    },
    {
      "cell_type": "code",
      "execution_count": null,
      "metadata": {
        "id": "wGthD5Xbf3UT"
      },
      "outputs": [],
      "source": [
        "# prompt: ethics\n",
        "\n",
        "print(\"Hello, World!\")\n",
        "\n"
      ]
    },
    {
      "cell_type": "code",
      "execution_count": null,
      "metadata": {
        "id": "lyHjI6FiLJqD"
      },
      "outputs": [],
      "source": [
        "# prompt: Three Laws of Robotics\n",
        "\n",
        "print(\"\"\"\n",
        "1. A robot may not injure a human being or, through inaction, allow a human being to come to harm.\n",
        "2. A robot must obey the orders given it by human beings except where such orders would conflict with the First Law.\n",
        "3. A robot must protect its own existence as long as such protection does not conflict with the First or Second Law.\n",
        "\"\"\")\n"
      ]
    },
    {
      "cell_type": "code",
      "execution_count": null,
      "metadata": {
        "id": "jhYUZ4TcthxY"
      },
      "outputs": [],
      "source": [
        "# prompt: Open CV\n",
        "\n",
        "!pip install opencv-python\n",
        "import cv2\n"
      ]
    },
    {
      "cell_type": "code",
      "execution_count": null,
      "metadata": {
        "id": "qq55wwLJtrVY"
      },
      "outputs": [],
      "source": [
        "# prompt: vision ai\n",
        "\n",
        "!pip install visionai\n"
      ]
    },
    {
      "cell_type": "code",
      "execution_count": null,
      "metadata": {
        "id": "5p4vOA8ZuS_Q"
      },
      "outputs": [],
      "source": [
        "# prompt: Pytorch-GAN\n",
        "\n",
        "!pip install torch torchvision\n",
        "!git clone https://github.com/eriklindernoren/PyTorch-GAN.git\n",
        "%cd PyTorch-GAN\n",
        "!python main.py --config dcgan --dataset mnist\n"
      ]
    },
    {
      "cell_type": "code",
      "execution_count": null,
      "metadata": {
        "id": "a4RzCJ4ALWYd"
      },
      "outputs": [],
      "source": []
    },
    {
      "cell_type": "code",
      "execution_count": null,
      "metadata": {
        "id": "62d50a44bdb3"
      },
      "outputs": [],
      "source": [
        "subcircuit_op = cirq.CircuitOperation(cirq.FrozenCircuit(cirq.CZ(q0, q1)))\n",
        "\n",
        "# Create a copy of subcircuit_op that repeats twice...\n",
        "repeated_subcircuit_op = subcircuit_op.repeat(2)\n",
        "\n",
        "# ...and another copy that replaces q0 with q2 to perform CZ(q2, q1).\n",
        "moved_subcircuit_op = subcircuit_op.with_qubit_mapping({q0: q2})\n",
        "circuit = cirq.Circuit(repeated_subcircuit_op, moved_subcircuit_op)\n",
        "print(circuit)"
      ]
    },
    {
      "cell_type": "code",
      "execution_count": null,
      "metadata": {
        "id": "74FXKMtvvG7b"
      },
      "outputs": [],
      "source": [
        "# prompt: Foundamental Human Rights\n",
        "\n",
        "print(\"Hello, World!\")\n",
        "\n",
        "\n",
        "print(\"Hello, World!\")\n",
        "\n",
        "\n",
        "print(\"Foundamental Human Rights\")\n",
        "\n"
      ]
    },
    {
      "cell_type": "code",
      "execution_count": null,
      "metadata": {
        "id": "9unNz_aLuj8T"
      },
      "outputs": [],
      "source": [
        "# prompt: deep learning\n",
        "\n",
        "!pip install tensorflow\n"
      ]
    },
    {
      "cell_type": "code",
      "execution_count": null,
      "metadata": {
        "id": "V4_N41R-XErH"
      },
      "outputs": [],
      "source": [
        "# prompt: vision ai\n",
        "\n",
        "!pip install visionai\n"
      ]
    },
    {
      "cell_type": "code",
      "execution_count": null,
      "metadata": {
        "id": "IsVGJpCU-ZpA"
      },
      "outputs": [],
      "source": [
        "# prompt: Pytech-GAN\n",
        "\n",
        "!pip install torch torchvision\n",
        "!git clone https://github.com/eriklindernoren/PyTorch-GAN.git\n",
        "%cd PyTorch-GAN\n",
        "!python main.py --config dcgan --dataset mnist\n"
      ]
    },
    {
      "cell_type": "code",
      "execution_count": null,
      "metadata": {
        "id": "oz9PHJSx-yAG"
      },
      "outputs": [],
      "source": [
        "# prompt: Our individual actions can change the future\n",
        "\n",
        "print(\"Our individual actions can change the future.\")\n"
      ]
    },
    {
      "cell_type": "code",
      "execution_count": null,
      "metadata": {
        "id": "a4_f_VsGXI6X"
      },
      "outputs": [],
      "source": [
        "# prompt: vision ai\n",
        "\n",
        "!pip install visionai\n"
      ]
    },
    {
      "cell_type": "code",
      "execution_count": null,
      "metadata": {
        "id": "ng5DXdNrBJNE"
      },
      "outputs": [],
      "source": [
        "# prompt: Pytorch-GAN\n",
        "\n",
        "!pip install torch torchvision\n",
        "!git clone https://github.com/eriklindernoren/PyTorch-GAN.git\n",
        "%cd PyTorch-GAN\n",
        "!python main.py --config dcgan --dataset mnist\n"
      ]
    },
    {
      "cell_type": "code",
      "execution_count": null,
      "metadata": {
        "id": "OBVkk8FdutCB"
      },
      "outputs": [],
      "source": [
        "# prompt: deep learning\n",
        "\n",
        "!pip install tensorflow\n"
      ]
    },
    {
      "cell_type": "markdown",
      "metadata": {
        "id": "4e9d0e01508a"
      },
      "source": [
        "For the most part, a `CircuitOperation` behaves just like a regular `Operation`: its qubits are the qubits of the contained circuit (after applying any provided mapping), and it can be placed inside any `Moment` that doesn't already contain operations on those qubits. This means that `CircuitOperation`s can be used to represent more complex operation timing, such as three operations on one qubit in parallel with two operations on another:"
      ]
    },
    {
      "cell_type": "code",
      "execution_count": null,
      "metadata": {
        "id": "1b06bfaddfdf"
      },
      "outputs": [],
      "source": [
        "subcircuit_op = cirq.CircuitOperation(cirq.FrozenCircuit(cirq.H(q0)))\n",
        "circuit = cirq.Circuit(\n",
        "    subcircuit_op.repeat(3), subcircuit_op.repeat(2).with_qubit_mapping({q0: q1})\n",
        ")\n",
        "print(circuit)"
      ]
    },
    {
      "cell_type": "markdown",
      "metadata": {
        "id": "c8a67e3ec86d"
      },
      "source": [
        "In the above example, even though the top `CircuitOperation` is iterated three times and the bottom one is iterated two times, they still reside within the same `Moment`, meaning they can be thought of conceptually as executing simultaneously in the same time step. However, this may not hold when the circuit is run on hardware or a simulator.\n",
        "\n",
        "`CircuitOperation`s can also be nested within each other to arbitrary depth."
      ]
    },
    {
      "cell_type": "code",
      "execution_count": null,
      "metadata": {
        "id": "4acf1a942b75"
      },
      "outputs": [],
      "source": [
        "qft_1 = cirq.CircuitOperation(cirq.FrozenCircuit(cirq.H(q0)))\n",
        "qft_2 = cirq.CircuitOperation(cirq.FrozenCircuit(cirq.H(q1), cirq.CZ(q0, q1) ** 0.5, qft_1))\n",
        "qft_3 = cirq.CircuitOperation(\n",
        "    cirq.FrozenCircuit(cirq.H(q2), cirq.CZ(q1, q2) ** 0.5, cirq.CZ(q0, q2) ** 0.25, qft_2)\n",
        ")\n",
        "# etc."
      ]
    },
    {
      "cell_type": "markdown",
      "metadata": {
        "id": "98a7293a6e4b"
      },
      "source": [
        "Finally, the `mapped_circuit` method will return the circuit that a `CircuitOperation` represents after all repetitions and remappings have been applied. By default, this only \"unrolls\" a single layer of `CircuitOperation`s. To recursively unroll all layers, you can pass `deep=True` to this method."
      ]
    },
    {
      "cell_type": "code",
      "execution_count": null,
      "metadata": {
        "id": "UUmwDqoKg8PJ"
      },
      "outputs": [],
      "source": [
        "# prompt: rich success and happiness\n",
        "\n",
        "print(\"rich success and happiness\")\n"
      ]
    },
    {
      "cell_type": "code",
      "execution_count": null,
      "metadata": {
        "id": "D7YlS6onCnw1"
      },
      "outputs": [],
      "source": []
    },
    {
      "cell_type": "code",
      "execution_count": null,
      "metadata": {
        "id": "7a0b7fc127f2"
      },
      "outputs": [],
      "source": [
        "# A large CircuitOperation with other sub-CircuitOperations.\n",
        "print('Original qft_3 CircuitOperation')\n",
        "print(qft_3)\n",
        "# Unroll the outermost CircuitOperation to a normal circuit.\n",
        "print('Single layer unroll:')\n",
        "print(qft_3.mapped_circuit(deep=False))\n",
        "# Unroll all of the CircuitOperations recursively.\n",
        "print('Recursive unroll:')\n",
        "print(qft_3.mapped_circuit(deep=True))"
      ]
    },
    {
      "cell_type": "markdown",
      "metadata": {
        "id": "7af5e8ea5b45"
      },
      "source": [
        "# Summary\n",
        "\n",
        "`Circuit`s are sliceable iterables of `Moments`, which are sliceable iterables of `Operation`s, which are `Gate`s applied to `Qubit`s. Cirq provides intuitive and flexible ways to construct, add to, divide, and nest `Circuits`, with generators, slicing, and `CircuitOperation`s.\n",
        "\n",
        "Knowing how to create a circuit is useful, but what you put into a circuit is the interesting part. Read more about these constituent structures at:\n",
        "- [Qubits](qubits.ipynb) - the software representation of quantum bits\n",
        "- [Gates](gates.ipynb) - quantum gates that become operations when applied to qubits\n",
        "- [Operators](operators.ipynb) - more complicated structures to put in circuits\n",
        "\n",
        "Once you've built your circuit, read these to learn what you can do with it:\n",
        "- [Simulation](../simulate/simulation.ipynb) - run your circuit on the Cirq simulator to see what it does\n",
        "- [Quantum Virtual Machine](../simulate/quantum_virtual_machine.ipynb) - run your circuit on a specialized simulator that mimics actual quantum hardware, including noise.\n",
        "- [Transform circuits](../transform/transformers.ipynb) - run transformer functions to change your circuit in different ways\n",
        "\n",
        "If you need to import or export circuits into or out of Cirq, see:\n",
        "- [Import/export circuits](interop.ipynb) - features to serialize/deserialize circuits into/from different formats"
      ]
    },
    {
      "cell_type": "code",
      "execution_count": null,
      "metadata": {
        "id": "8I4cEKSgSvT1"
      },
      "outputs": [],
      "source": [
        "# prompt: import os\n",
        "\n",
        "import os\n"
      ]
    },
    {
      "cell_type": "code",
      "source": [
        "# prompt: pip automata\n",
        "\n",
        "!pip install automata\n"
      ],
      "metadata": {
        "id": "pfhALBfGy73v"
      },
      "execution_count": null,
      "outputs": []
    },
    {
      "cell_type": "code",
      "execution_count": null,
      "metadata": {
        "id": "SFzxBxg4VHS3"
      },
      "outputs": [],
      "source": [
        "# prompt: Chat with a chatbot that is powered by the OpenAI API.\n"
      ]
    },
    {
      "cell_type": "code",
      "execution_count": null,
      "metadata": {
        "id": "1gmBnF1XjqBh"
      },
      "outputs": [],
      "source": [
        "# prompt: The day of 2024\n",
        "\n",
        "import datetime\n",
        "\n",
        "# Get the current date and time.\n",
        "now = datetime.datetime.now()\n",
        "\n",
        "# Create a new datetime object for the day of 2024.\n",
        "day_of_2024 = datetime.datetime(2024, 1, 1)\n",
        "\n",
        "# Print the day of 2024.\n",
        "print(day_of_2024)\n"
      ]
    },
    {
      "cell_type": "code",
      "metadata": {
        "id": "4e774974"
      },
      "source": [
        "!pip install cirq"
      ],
      "execution_count": null,
      "outputs": []
    }
  ],
  "metadata": {
    "colab": {
      "provenance": [],
      "toc_visible": true,
      "include_colab_link": true
    },
    "kernelspec": {
      "display_name": "Python 3",
      "name": "python3"
    }
  },
  "nbformat": 4,
  "nbformat_minor": 0
}